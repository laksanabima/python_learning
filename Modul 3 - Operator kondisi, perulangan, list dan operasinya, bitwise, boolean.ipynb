{
 "cells": [
  {
   "cell_type": "markdown",
   "metadata": {},
   "source": [
    "# Luaran Pembelajaran\n",
    "\n",
    "Module ini akan menjelaskan beberapa materi sebagai berikut : \n",
    "\n",
    "- Nilai Boolean;\n",
    "- Struktur pemilihan if-elif-else;\n",
    "- Struktur perulangan while dan for;\n",
    "- Alur kontrol;\n",
    "- Operasi logika dan bitwise;\n",
    "- Lists dan Array."
   ]
  },
  {
   "cell_type": "markdown",
   "metadata": {},
   "source": [
    "### Operator Relasional\n",
    "\n",
    "Operator relasional adalah operator yang digunakan untuk membandingkan dua buah nilai. Hasil yang akan diperoleh dari operasi perbandingan ini adalah logika (bertipe bool), yaitu True (benar) atau False (salah)."
   ]
  },
  {
   "cell_type": "code",
   "execution_count": 1,
   "metadata": {},
   "outputs": [
    {
     "name": "stdout",
     "output_type": "stream",
     "text": [
      "masukkan a = 3\n",
      "masukkan b = 4\n",
      "masukkan c = 5\n",
      "masukkan d = 6\n",
      "a==b False\n",
      "a==c False\n",
      "a!=b True\n",
      "a>d False\n",
      "b<d True\n",
      "b<=d True\n",
      "b<=d True\n"
     ]
    }
   ],
   "source": [
    "a = int(input(\"masukkan a = \"))\n",
    "b = int(input(\"masukkan b = \"))\n",
    "c = int(input(\"masukkan c = \"))\n",
    "d = int(input(\"masukkan d = \"))\n",
    "\n",
    "print(\"a==b\",a==b)\n",
    "print(\"a==c\",a==c)\n",
    "print(\"a!=b\",a!=b)\n",
    "\n",
    "print(\"a>d\",a>d)\n",
    "print(\"b<d\",b<d)\n",
    "print(\"b<=d\",b<=d)\n",
    "print(\"b<=d\",b<=d)\n"
   ]
  },
  {
   "cell_type": "markdown",
   "metadata": {},
   "source": [
    "## Struktur Pemilihan\n",
    "\n",
    "Berbeda dengan bahasa pemrograman lainnya, Python hanya memiliki satu statement untuk melakukan proses pemilihan, yaitu dengan menggunakan if. Untuk mempermu"
   ]
  },
  {
   "cell_type": "code",
   "execution_count": null,
   "metadata": {},
   "outputs": [],
   "source": [
    "a = 5\n",
    "b = 5\n",
    "\n",
    "if a==b:\n",
    "    print(\"a dan b bernilai sama\")"
   ]
  },
  {
   "cell_type": "code",
   "execution_count": 9,
   "metadata": {},
   "outputs": [
    {
     "name": "stdout",
     "output_type": "stream",
     "text": [
      "a dan b bernilai berbeda\n"
     ]
    }
   ],
   "source": [
    "a = 5\n",
    "b = 6\n",
    "\n",
    "if a==b:\n",
    "    print(\"a dan b bernilai sama\")\n",
    "else:\n",
    "    print(\"a dan b bernilai berbeda\")"
   ]
  },
  {
   "cell_type": "code",
   "execution_count": 10,
   "metadata": {},
   "outputs": [
    {
     "name": "stdout",
     "output_type": "stream",
     "text": [
      "Mengulang\n"
     ]
    }
   ],
   "source": [
    "a = 80\n",
    "\n",
    "if a > 80:\n",
    "    print(\"Lulus\")\n",
    "elif a > 60:\n",
    "    print(\"Mengulang\")\n",
    "else:\n",
    "    print(\"Tidak Lulus\")\n"
   ]
  },
  {
   "cell_type": "code",
   "execution_count": 28,
   "metadata": {},
   "outputs": [
    {
     "name": "stdout",
     "output_type": "stream",
     "text": [
      "nested: x == 10\n"
     ]
    }
   ],
   "source": [
    "x = 10\n",
    "\n",
    "if x > 5: # True\n",
    "    if x == 6: # False\n",
    "        print(\"nested: x == 6\")\n",
    "    elif x == 10: # True\n",
    "        print(\"nested: x == 10\")\n",
    "    else:\n",
    "        print(\"nested: else\")\n",
    "else:\n",
    "    print(\"else\")"
   ]
  },
  {
   "cell_type": "markdown",
   "metadata": {},
   "source": [
    "### Mencari Bilangan Terbesar"
   ]
  },
  {
   "cell_type": "code",
   "execution_count": null,
   "metadata": {},
   "outputs": [],
   "source": [
    "# read two numbers\n",
    "number1 = int(input(\"Enter the first number: \"))\n",
    "number2 = int(input(\"Enter the second number: \"))\n",
    "\n",
    "# choose the larger number\n",
    "if number1 > number2:\n",
    "    largerNumber = number1\n",
    "else:\n",
    "    largerNumber = number2\n",
    "\n",
    "# print the result\n",
    "print(\"The larger number is:\", largerNumber)"
   ]
  },
  {
   "cell_type": "code",
   "execution_count": 11,
   "metadata": {},
   "outputs": [
    {
     "name": "stdout",
     "output_type": "stream",
     "text": [
      "Enter the first number: 8\n",
      "Enter the second number: 9\n",
      "Enter the third number: 10\n",
      "The largest number is: 10\n"
     ]
    }
   ],
   "source": [
    "# read three numbers\n",
    "number1 = int(input(\"Enter the first number: \"))\n",
    "number2 = int(input(\"Enter the second number: \"))\n",
    "number3 = int(input(\"Enter the third number: \"))\n",
    "\n",
    "# we temporarily assume that the first number\n",
    "# is the largest one\n",
    "# we will verify it soon\n",
    "largestNumber = number1\n",
    "\n",
    "# we check if the second number is larger than current largestNumber\n",
    "# and update largestNumber if needed\n",
    "if number2 > largestNumber:\n",
    "    largestNumber = number2\n",
    "\n",
    "# we check if the third number is larger than current largestNumber\n",
    "# and update largestNumber if needed\n",
    "if number3 > largestNumber:\n",
    "    largestNumber = number3\n",
    "\n",
    "# print the result\n",
    "print(\"The largest number is:\", largestNumber)"
   ]
  },
  {
   "cell_type": "markdown",
   "metadata": {},
   "source": [
    "### Lab\n",
    "Spathiphyllum, more commonly known as a peace lily or white sail plant, is one of the most popular indoor houseplants that filters out harmful toxins from the air. Some of the toxins that it neutralizes include benzene, formaldehyde, and ammonia.\n",
    "\n",
    "Imagine that your computer program loves these plants. Whenever it receives an input in the form of the word Spathiphyllum, it involuntarily shouts to the console the following string: \"Spathiphyllum is the best plant ever!\"\n",
    "\n",
    "Write a program that utilizes the concept of conditional execution, takes a string as input, and:\n",
    "\n",
    "- prints the sentence `\"Yes - Spathiphyllum is the best plant ever!\"` to the screen if the inputted string is `\"Spathiphyllum\"` (upper-case)\n",
    "- prints `\"No, I want a big Spathiphyllum!\"` if the inputted string is `\"spathiphyllum\"` (lower-case)\n",
    "- prints `\"Spathiphyllum! Not [input]!\"` otherwise. Note: [input] is the string taken as input."
   ]
  },
  {
   "cell_type": "code",
   "execution_count": 15,
   "metadata": {},
   "outputs": [
    {
     "name": "stdout",
     "output_type": "stream",
     "text": [
      "Please input a best plant = spathiphyllum\n",
      "No, I want a big Spathiphyllum!\n"
     ]
    }
   ],
   "source": [
    "plant = input(\"Please input a best plant = \")\n",
    "\n",
    "if plant==\"Spathiphyllum\":\n",
    "    print(\"Yes - Spathiphyllum is the best plant ever!\")\n",
    "elif plant==\"spathiphyllum\":\n",
    "    print(\"No, I want a big Spathiphyllum!\")\n",
    "else:\n",
    "    print(\"Spathiphyllum! Not \"+plant+\"!\")"
   ]
  },
  {
   "cell_type": "markdown",
   "metadata": {},
   "source": [
    "### Lab\n",
    "\n",
    "Once upon a time there was a land - a land of milk and honey, inhabited by happy and prosperous people. The people paid taxes, of course - their happiness had limits. The most important tax, called the Personal Income Tax (PIT for short) had to be paid once a year, and was evaluated using the following rule:\n",
    "\n",
    "- if the citizen's income was not higher than 85,528 thalers, the tax was equal to 18% of the income minus 556 thalers and 2 cents (this was the so-called tax relief)\n",
    "- if the income was higher than this amount, the tax was equal to 14,839 thalers and 2 cents, plus 32% of the surplus over 85,528 thalers.\n",
    "\n",
    "Your task is to write a <b>tax calculator</b>.\n",
    "\n",
    "- It should accept one floating-point value: the income.\n",
    "- Next, it should print the calculated tax, rounded to full thalers. There's a function named round() which will do the rounding for you - you'll find it in the skeleton code in the editor.\n",
    "\n",
    "Note: this happy country never returns money to its citizens. If the calculated tax is less than zero, it only means no tax at all (the tax is equal to zero). Take this into consideration during your calculations.\n",
    "\n",
    "Look at the code in the editor - it only reads one input value and outputs a result, so you need to complete it with some smart calculations.\n",
    "\n",
    "```python\n",
    "income = float(input(\"Enter the annual income: \"))\n",
    "\n",
    "#\n",
    "# Put your code here.\n",
    "#\n",
    "\n",
    "tax = round(tax, 0)\n",
    "print(\"The tax is:\", tax, \"thalers\")\n",
    "```\n",
    "\n",
    "Test your code using the data we've provided.\n",
    "\n",
    "```python\n",
    "Sample input: 10000\n",
    "\n",
    "Expected output: The tax is: 1244.0 thalers\n",
    "        \n",
    "Sample input: 100000\n",
    "\n",
    "Expected output: The tax is: 19470.0 thalers\n",
    "        \n",
    "Sample input: 1000\n",
    "\n",
    "Expected output: The tax is: 0.0 thalers\n",
    "\n",
    "Sample input: -100\n",
    "\n",
    "Expected output: The tax is: 0.0 thalers\n",
    "```"
   ]
  },
  {
   "cell_type": "code",
   "execution_count": 27,
   "metadata": {},
   "outputs": [
    {
     "name": "stdout",
     "output_type": "stream",
     "text": [
      "Enter the annual income: 1000\n",
      "The tax is: 0 thalers\n"
     ]
    }
   ],
   "source": [
    "income = float(input(\"Enter the annual income: \"))\n",
    "tax = 0\n",
    "\n",
    "if income<85528:\n",
    "    tax = 0.18 * income - 556.2\n",
    "else:\n",
    "    tax = 14839 + 0.2 + 0.32 * (income - 85528)\n",
    "\n",
    "tax = round(tax, 0)\n",
    "\n",
    "if tax<0:\n",
    "    tax = 0\n",
    "\n",
    "print(\"The tax is:\", tax, \"thalers\")\n"
   ]
  },
  {
   "cell_type": "markdown",
   "metadata": {},
   "source": [
    "### Lab\n",
    "\n",
    "As you surely know, due to some astronomical reasons, years may be leap or common. The former are 366 days long, while the latter are 365 days long.\n",
    "\n",
    "Since the introduction of the Gregorian calendar (in 1582), the following rule is used to determine the kind of year:\n",
    "\n",
    "- if the year number isn't divisible by four, it's a common year;\n",
    "- otherwise, if the year number isn't divisible by 100, it's a leap year;\n",
    "- otherwise, if the year number isn't divisible by 400, it's a common year;\n",
    "- otherwise, it's a leap year.\n",
    "\n",
    "Look at the code in the editor - it only reads a year number, and needs to be completed with the instructions implementing the test we've just described.\n",
    "\n",
    "``` python\n",
    "year = int(input(\"Enter a year: \"))\n",
    "\n",
    "#\n",
    "# Put your code here.\n",
    "#\n",
    "\n",
    "```\n",
    "\n",
    "The code should output one of two possible messages, which are Leap year or Common year, depending on the value entered.\n",
    "\n",
    "It would be good to verify if the entered year falls into the Gregorian era, and output a warning otherwise: Not within the Gregorian calendar period. Tip: use the != and % operators.\n",
    "\n",
    "Test your code using the data we've provided.\n",
    "\n",
    "Sample input: `2000`\n",
    "\n",
    "Expected output: `Leap year`\n",
    "\n",
    "Sample input: `2015`\n",
    "\n",
    "Expected output: `Common year`\n",
    "\n",
    "Sample input: `1999`\n",
    "\n",
    "Expected output: `Common year`\n",
    "\n",
    "Sample input: `1996`\n",
    "\n",
    "Expected output: `Leap year`\n",
    "\n",
    "Sample input: `1580`\n",
    "\n",
    "Expected output: `Not within the Gregorian calendar period`"
   ]
  },
  {
   "cell_type": "markdown",
   "metadata": {},
   "source": [
    "# Exercise\n",
    "\n",
    "What is the output:\n",
    "\n",
    "```python\n",
    "x = 5\n",
    "y = 10\n",
    "z = 8\n",
    "\n",
    "print(x > y)\n",
    "print(y > z)\n",
    "```\n",
    "\n",
    "What is the output:\n",
    "\n",
    "```python\n",
    "x, y, z = 5, 10, 8\n",
    "\n",
    "print(x > z)\n",
    "print((y - 5) == x)\n",
    "```\n",
    "\n",
    "What is the output:\n",
    "\n",
    "```python\n",
    "x, y, z = 5, 10, 8\n",
    "x, y, z = z, y, x\n",
    "\n",
    "print(x > z)\n",
    "print((y - 5) == x)\n",
    "```\n",
    "\n",
    "What is the output:\n",
    "\n",
    "```python\n",
    "x = 10\n",
    "\n",
    "if x == 10:\n",
    "    print(x == 10)\n",
    "if x > 5:\n",
    "    print(x > 5)\n",
    "if x < 10:\n",
    "    print(x < 10)\n",
    "else:\n",
    "    print(\"else\")\n",
    "```\n",
    "\n",
    "What is the output:\n",
    "\n",
    "```python\n",
    "x = \"1\"\n",
    "\n",
    "if x == 1:\n",
    "    print(\"one\")\n",
    "elif x == \"1\":\n",
    "    if int(x) > 1:\n",
    "        print(\"two\")\n",
    "    elif int(x) < 1:\n",
    "        print(\"three\")\n",
    "    else:\n",
    "        print(\"four\")\n",
    "if int(x) == 1:\n",
    "    print(\"five\")\n",
    "else:\n",
    "    print(\"six\")\n",
    "```\n",
    "\n",
    "What is the output:\n",
    "```python\n",
    "x = 1\n",
    "y = 1.0\n",
    "z = \"1\"\n",
    "\n",
    "if x == y:\n",
    "    print(\"one\")\n",
    "if y == int(z):\n",
    "    print(\"two\")\n",
    "elif x == y:\n",
    "    print(\"three\")\n",
    "else:\n",
    "    print(\"four\")\n",
    "```"
   ]
  },
  {
   "cell_type": "markdown",
   "metadata": {},
   "source": [
    "# 3.1.2 Perulangan / Looping\n",
    "\n",
    "Perulangan dengan while:\n",
    "\n",
    "```python\n",
    "while conditional_expression:\n",
    "    instruction_one\n",
    "    instruction_two\n",
    "    instruction_three\n",
    "    :\n",
    "    :\n",
    "    instruction_n\n",
    "```\n",
    "\n",
    "Inifinite Loop\n",
    "```python\n",
    "while True:\n",
    "    print(\"I'm stuck inside a loop.\")\n",
    "```"
   ]
  },
  {
   "cell_type": "code",
   "execution_count": 31,
   "metadata": {},
   "outputs": [
    {
     "name": "stdout",
     "output_type": "stream",
     "text": [
      "1\n",
      "2\n",
      "3\n",
      "4\n",
      "5\n",
      "6\n",
      "7\n",
      "8\n",
      "9\n"
     ]
    }
   ],
   "source": [
    "i = 1\n",
    "while i<10:\n",
    "    print(i)\n",
    "    i = i+1"
   ]
  },
  {
   "cell_type": "markdown",
   "metadata": {},
   "source": [
    "## Contoh: Menghitung bilangan terbesar "
   ]
  },
  {
   "cell_type": "code",
   "execution_count": 30,
   "metadata": {},
   "outputs": [
    {
     "name": "stdout",
     "output_type": "stream",
     "text": [
      "Enter a number or type -1 to stop: 90\n",
      "Enter a number or type -1 to stop: 80\n",
      "Enter a number or type -1 to stop: 80\n",
      "Enter a number or type -1 to stop: 100\n",
      "Enter a number or type -1 to stop: -1\n",
      "The largest number is: 100\n"
     ]
    }
   ],
   "source": [
    "\n",
    "# we will store the current largest number here\n",
    "largestNumber = -999999999\n",
    "\n",
    "# input the first value\n",
    "number = int(input(\"Enter a number or type -1 to stop: \"))\n",
    "\n",
    "# if the number is not equal to -1, we will continue\n",
    "while number != -1:\n",
    "    # is number larger than largestNumber?\n",
    "    if number > largestNumber:\n",
    "        # yes, update largestNumber\n",
    "        largestNumber = number\n",
    "    # input the next number\n",
    "    number = int(input(\"Enter a number or type -1 to stop: \"))\n",
    "\n",
    "# print the largest number\n",
    "print(\"The largest number is:\", largestNumber)"
   ]
  },
  {
   "cell_type": "markdown",
   "metadata": {},
   "source": [
    "## Contoh: Menghitung berapa ganjil dan genap dari rangkaian bilangan"
   ]
  },
  {
   "cell_type": "code",
   "execution_count": null,
   "metadata": {},
   "outputs": [],
   "source": [
    "# program that reads a sequence of numbers\n",
    "# and counts how many numbers are even and how many are odd\n",
    "# program terminates when zero is entered\n",
    "\n",
    "oddNumbers = 0\n",
    "evenNumbers = 0\n",
    "\n",
    "# read the first number\n",
    "number = int(input(\"Enter a number or type 0 to stop: \"))\n",
    "\n",
    "# 0 terminates execution\n",
    "while number != 0:\n",
    "    # check if the number is odd\n",
    "    if number % 2 == 1:\n",
    "        # increase the oddNumbers counter\n",
    "        oddNumbers += 1\n",
    "    else:\n",
    "        # increase the evenNumbers counter\n",
    "        evenNumbers += 1\n",
    "    # read the next number\n",
    "    number = int(input(\"Enter a number or type 0 to stop: \"))\n",
    "\n",
    "# print results\n",
    "print(\"Odd numbers count:\", oddNumbers)\n",
    "print(\"Even numbers count:\", evenNumbers)"
   ]
  },
  {
   "cell_type": "markdown",
   "metadata": {},
   "source": [
    "## Lab\n",
    "A junior magician has picked a secret number. He has hidden it in a variable named `secretNumber`. He wants everyone who run his program to play the Guess the secret number game, and guess what number he has picked for them. Those who don't guess the number will be stuck in an endless loop forever! Unfortunately, he does not know how to complete the code.\n",
    "\n",
    "Your task is to help the magician complete the code in the editor in such a way so that the code:\n",
    "\n",
    "- will ask the user to enter an integer number;\n",
    "- will use a `while` loop;\n",
    "- will check whether the number entered by the user is the same as the number picked by the magician. If the number chosen by the user is different than the magician's secret number, the user should see the message `\"Ha ha! You're stuck in my loop!\"` and be prompted to enter a number again. If the number entered by the user matches the number picked by the magician, the number should be printed to the screen, and the magician should say the following words: `\"Well done, muggle! You are free now.\"`\n",
    "\n",
    "```python\n",
    "secretNumber = 777\n",
    "\n",
    "print(\n",
    "\"\"\"\n",
    "+================================+\n",
    "| Welcome to my game, muggle!    |\n",
    "| Enter an integer number        |\n",
    "| and guess what number I've     |\n",
    "| picked for you.                |\n",
    "| So, what is the secret number? |\n",
    "+================================+\n",
    "\"\"\")\n",
    "```\n",
    "\n",
    "The magician is counting on you! Don't disappoint him."
   ]
  },
  {
   "cell_type": "code",
   "execution_count": 33,
   "metadata": {},
   "outputs": [
    {
     "name": "stdout",
     "output_type": "stream",
     "text": [
      "\n",
      "+================================+\n",
      "| Welcome to my game, muggle!    |\n",
      "| Enter an integer number        |\n",
      "| and guess what number I've     |\n",
      "| picked for you.                |\n",
      "| So, what is the secret number? |\n",
      "+================================+\n",
      "\n",
      "So, what is the secret number? 80\n",
      "Ha ha! You're stuck in my loop!\n",
      "So, what is the secret number? 90\n",
      "Ha ha! You're stuck in my loop!\n",
      "So, what is the secret number? 88\n",
      "Ha ha! You're stuck in my loop!\n",
      "So, what is the secret number? 100\n",
      "Ha ha! You're stuck in my loop!\n",
      "So, what is the secret number? 777\n",
      "Well done, muggle! You are free now.\n"
     ]
    }
   ],
   "source": [
    "secretNumber = 777\n",
    "\n",
    "print(\n",
    "\"\"\"\n",
    "+================================+\n",
    "| Welcome to my game, muggle!    |\n",
    "| Enter an integer number        |\n",
    "| and guess what number I've     |\n",
    "| picked for you.                |\n",
    "| So, what is the secret number? |\n",
    "+================================+\n",
    "\"\"\")\n",
    "\n",
    "guessNumber = 0\n",
    "\n",
    "while guessNumber != secretNumber:\n",
    "    guessNumber = int(input(\"So, what is the secret number? \"))\n",
    "    if guessNumber != secretNumber:\n",
    "        print(\"Ha ha! You're stuck in my loop!\")\n",
    "        \n",
    "print(\"Well done, muggle! You are free now.\")"
   ]
  },
  {
   "cell_type": "markdown",
   "metadata": {},
   "source": [
    "# Perulangan dengan For\n",
    "Bentuk lain dari perulangan selain while\n",
    "```python\n",
    "for i in range(100):\n",
    "    # do_something()\n",
    "```"
   ]
  },
  {
   "cell_type": "code",
   "execution_count": 34,
   "metadata": {},
   "outputs": [
    {
     "name": "stdout",
     "output_type": "stream",
     "text": [
      "The value of i is currently 0\n",
      "The value of i is currently 1\n",
      "The value of i is currently 2\n",
      "The value of i is currently 3\n",
      "The value of i is currently 4\n",
      "The value of i is currently 5\n",
      "The value of i is currently 6\n",
      "The value of i is currently 7\n",
      "The value of i is currently 8\n",
      "The value of i is currently 9\n"
     ]
    }
   ],
   "source": [
    "for i in range(10):\n",
    "    print(\"The value of i is currently\", i)"
   ]
  },
  {
   "cell_type": "code",
   "execution_count": 35,
   "metadata": {},
   "outputs": [
    {
     "name": "stdout",
     "output_type": "stream",
     "text": [
      "The value of i is currently 2\n",
      "The value of i is currently 3\n",
      "The value of i is currently 4\n",
      "The value of i is currently 5\n",
      "The value of i is currently 6\n",
      "The value of i is currently 7\n"
     ]
    }
   ],
   "source": [
    "for i in range(2, 8):\n",
    "    print(\"The value of i is currently\", i)"
   ]
  },
  {
   "cell_type": "code",
   "execution_count": 36,
   "metadata": {},
   "outputs": [
    {
     "name": "stdout",
     "output_type": "stream",
     "text": [
      "The value of i is currently 2\n",
      "The value of i is currently 5\n"
     ]
    }
   ],
   "source": [
    "for i in range(2, 8, 3):\n",
    "    print(\"The value of i is currently\", i)"
   ]
  },
  {
   "cell_type": "markdown",
   "metadata": {},
   "source": [
    "### Lab\n",
    "\n",
    "Do you know what Mississippi is? Well, it's the name of one of the states and rivers in the United States. The Mississippi River is about 2,340 miles long, which makes it the second longest river in the United States (the longest being the Missouri River). It's so long that a single drop of water needs 90 days to travel its entire length!\n",
    "\n",
    "The word Mississippi is also used for a slightly different purpose: to count mississippily.\n",
    "\n",
    "If you're not familiar with the phrase, we're here to explain to you what it means: it's used to count seconds.\n",
    "\n",
    "The idea behind it is that adding the word Mississippi to a number when counting seconds aloud makes them sound closer to clock-time, and therefore \"one Mississippi, two Mississippi, three Mississippi\" will take approximately an actual three seconds of time! It's often used by children playing hide-and-seek to make sure the seeker does an honest count.\n",
    "\n",
    "\n",
    "Your task is very simple here: write a program that uses a for loop to \"count mississippily\" to five. Having counted to five, the program should print to the screen the final message \"Ready or not, here I come!\"\n",
    "\n",
    "Use the skeleton we've provided in the editor.\n",
    "\n",
    "```python\n",
    "import time\n",
    "\n",
    "# Write a for loop that counts to five.\n",
    "    # Body of the loop - print the loop iteration number and the word \"Mississippi\".\n",
    "    # Body of the loop - use: time.sleep(1)\n",
    "\n",
    "# Write a print function with the final message.\n",
    "```\n",
    "\n",
    "<strong> EXTRA INFO </strong>\n",
    "\n",
    "Note that the code in the editor contains two elements which may not be fully clear to you at this moment: the import time statement, and the sleep() method. We're going to talk about them soon.\n",
    "\n",
    "For the time being, we'd just like you to know that we've imported the time module and used the sleep() method to suspend the execution of each subsequent print() function inside the for loop for one second, so that the message outputted to the console resembles an actual counting. Don't worry - you'll soon learn more about modules and methods."
   ]
  },
  {
   "cell_type": "code",
   "execution_count": 37,
   "metadata": {},
   "outputs": [
    {
     "name": "stdout",
     "output_type": "stream",
     "text": [
      "0  Missisipi\n",
      "1  Missisipi\n",
      "2  Missisipi\n",
      "3  Missisipi\n",
      "4  Missisipi\n"
     ]
    }
   ],
   "source": [
    "import time\n",
    "\n",
    "for i in range(5):\n",
    "    print(i,\" Missisipi\")\n",
    "    time.sleep(1)"
   ]
  },
  {
   "cell_type": "markdown",
   "metadata": {},
   "source": [
    "### break dan continue"
   ]
  },
  {
   "cell_type": "code",
   "execution_count": 38,
   "metadata": {},
   "outputs": [
    {
     "name": "stdout",
     "output_type": "stream",
     "text": [
      "The break instruction:\n",
      "Inside the loop. 1\n",
      "Inside the loop. 2\n",
      "Outside the loop.\n",
      "\n",
      "The continue instruction:\n",
      "Inside the loop. 1\n",
      "Inside the loop. 2\n",
      "Inside the loop. 4\n",
      "Inside the loop. 5\n",
      "Outside the loop.\n"
     ]
    }
   ],
   "source": [
    "# break - example\n",
    "\n",
    "print(\"The break instruction:\")\n",
    "for i in range(1, 6):\n",
    "    if i == 3:\n",
    "        break\n",
    "    print(\"Inside the loop.\", i)\n",
    "print(\"Outside the loop.\")\n",
    "\n",
    "\n",
    "# continue - example\n",
    "\n",
    "print(\"\\nThe continue instruction:\")\n",
    "for i in range(1, 6):\n",
    "    if i == 3:\n",
    "        continue\n",
    "    print(\"Inside the loop.\", i)\n",
    "print(\"Outside the loop.\")"
   ]
  },
  {
   "cell_type": "code",
   "execution_count": 39,
   "metadata": {},
   "outputs": [
    {
     "name": "stdout",
     "output_type": "stream",
     "text": [
      "Enter a number or type -1 to end program: 90\n",
      "Enter a number or type -1 to end program: 80\n",
      "Enter a number or type -1 to end program: 88\n",
      "Enter a number or type -1 to end program: -1\n",
      "The largest number is 90\n"
     ]
    }
   ],
   "source": [
    "largestNumber = -99999999\n",
    "counter = 0\n",
    "\n",
    "while True:\n",
    "    number = int(input(\"Enter a number or type -1 to end program: \"))\n",
    "    if number == -1:\n",
    "        break\n",
    "    counter += 1\n",
    "    if number > largestNumber:\n",
    "        largestNumber = number\n",
    "\n",
    "if counter != 0:\n",
    "    print(\"The largest number is\", largestNumber)\n",
    "else:\n",
    "    print(\"You haven't entered any number.\")\n"
   ]
  },
  {
   "cell_type": "code",
   "execution_count": 40,
   "metadata": {},
   "outputs": [
    {
     "name": "stdout",
     "output_type": "stream",
     "text": [
      "Enter a number or type -1 to end program: 88\n",
      "Enter a number or type -1 to end program: 10\n",
      "Enter a number or type -1 to end program: 00\n",
      "Enter a number or type -1 to end program: -1\n",
      "The largest number is 88\n"
     ]
    }
   ],
   "source": [
    "largestNumber = -99999999\n",
    "counter = 0\n",
    "\n",
    "number = int(input(\"Enter a number or type -1 to end program: \"))\n",
    "\n",
    "while number != -1:\n",
    "    if number == -1:\n",
    "        continue\n",
    "    counter += 1\n",
    "\n",
    "    if number > largestNumber:\n",
    "        largestNumber = number\n",
    "    number = int(input(\"Enter a number or type -1 to end program: \"))\n",
    "\n",
    "if counter:\n",
    "    print(\"The largest number is\", largestNumber)\n",
    "else:\n",
    "    print(\"You haven't entered any number.\")"
   ]
  },
  {
   "cell_type": "markdown",
   "metadata": {},
   "source": [
    "## Lab\n",
    "The `break` statement is used to exit/terminate a loop.\n",
    "\n",
    "Design a program that uses a `while` loop and continuously asks the user to enter a word unless the user enters `\"chupacabra\"` as the secret exit word, in which case the message `\"You've successfully left the loop.\"` should be printed to the screen, and the loop should terminate.\n",
    "\n",
    "Don't print any of the words entered by the user. Use the concept of conditional execution and the break statement."
   ]
  },
  {
   "cell_type": "code",
   "execution_count": 42,
   "metadata": {},
   "outputs": [
    {
     "name": "stdout",
     "output_type": "stream",
     "text": [
      "Masukkan Sebuah Kata untuk keluar dari perulangan = yo\n",
      "Masukkan Sebuah Kata untuk keluar dari perulangan = asd\n",
      "Masukkan Sebuah Kata untuk keluar dari perulangan = asd\n",
      "Masukkan Sebuah Kata untuk keluar dari perulangan = asd\n",
      "Masukkan Sebuah Kata untuk keluar dari perulangan = chupacabra\n",
      "You've successfully left the loop\n"
     ]
    }
   ],
   "source": [
    "while True:\n",
    "    word = input(\"Masukkan Sebuah Kata untuk keluar dari perulangan = \")\n",
    "    if(word==\"chupacabra\"):\n",
    "        break\n",
    "        \n",
    "print(\"You've successfully left the loop\")"
   ]
  },
  {
   "cell_type": "markdown",
   "metadata": {},
   "source": [
    "### Lab\n",
    "\n",
    "The `continue` statement is used to skip the current block and move ahead to the next iteration, without executing the statements inside the loop.\n",
    "\n",
    "It can be used with both the while and for loops.\n",
    "\n",
    "Your task here is very special: you must design a vowel eater! Write a program that uses:\n",
    "\n",
    "- a for loop;\n",
    "- the concept of conditional execution (if-elif-else)\n",
    "- the continue statement.\n",
    "\n",
    "Your program must:\n",
    "\n",
    "- ask the user to enter a word;\n",
    "- use `userWord = userWord.upper()` to convert the word entered by the user to upper case; we'll talk about the so-called string methods and the `upper()` method very soon - don't worry;\n",
    "- use conditional execution and the `continue` statement to \"eat\" the following vowels A, E, I, O, U from the inputted word;\n",
    "- print the uneaten letters to the screen, each one of them on a separate line.\n",
    "\n",
    "```python\n",
    "# Prompt the user to enter a word\n",
    "# and assign it to the userWord variable.\n",
    "\n",
    "for letter in userWord:\n",
    "    # Complete the body of the for loop.\n",
    "```\n",
    "\n",
    "Test your program with the data we've provided for you.\n",
    "\n",
    "\n",
    "Test data\n",
    "\n",
    "Sample input: `Gregory`\n",
    "\n",
    "Expected output:\n",
    "```\n",
    "G\n",
    "R\n",
    "G\n",
    "R\n",
    "Y\n",
    "```\n",
    "Sample input: `abstemious`\n",
    "\n",
    "Expected output:\n",
    "```\n",
    "B\n",
    "S\n",
    "T\n",
    "M\n",
    "S\n",
    "```"
   ]
  },
  {
   "cell_type": "code",
   "execution_count": 43,
   "metadata": {},
   "outputs": [
    {
     "name": "stdout",
     "output_type": "stream",
     "text": [
      "Masukkan sebuah kata = GUNTUR BUDI HERWANTO\n",
      "G\n",
      "N\n",
      "T\n",
      "R\n",
      " \n",
      "B\n",
      "D\n",
      " \n",
      "H\n",
      "R\n",
      "W\n",
      "N\n",
      "T\n"
     ]
    }
   ],
   "source": [
    "# Prompt the user to enter a word\n",
    "# and assign it to the userWord variable.\n",
    "userWord = input(\"Masukkan sebuah kata = \")\n",
    "\n",
    "for letter in userWord:\n",
    "    if letter.upper() in ['A','I','U','E','O']:\n",
    "        continue\n",
    "    \n",
    "    print(letter.upper())"
   ]
  },
  {
   "cell_type": "code",
   "execution_count": 44,
   "metadata": {},
   "outputs": [
    {
     "name": "stdout",
     "output_type": "stream",
     "text": [
      "Masukkan sebuah kata = GUNTUR BUDI HERWANTO\n",
      "GNTR BD HRWNT\n"
     ]
    }
   ],
   "source": [
    "wordWithoutVovels = \"\"\n",
    "\n",
    "# Prompt the user to enter a word\n",
    "# and assign it to the userWord variable.\n",
    "userWord = input(\"Masukkan sebuah kata = \")\n",
    "\n",
    "for letter in userWord:\n",
    "    if letter.upper() in ['A','I','U','E','O']:\n",
    "        continue\n",
    "    \n",
    "    wordWithoutVovels += letter.upper()\n",
    "    \n",
    "print(wordWithoutVovels)"
   ]
  },
  {
   "cell_type": "markdown",
   "metadata": {},
   "source": [
    "### looping with else"
   ]
  },
  {
   "cell_type": "code",
   "execution_count": 45,
   "metadata": {},
   "outputs": [
    {
     "name": "stdout",
     "output_type": "stream",
     "text": [
      "1\n",
      "2\n",
      "3\n",
      "4\n",
      "else: 5\n"
     ]
    }
   ],
   "source": [
    "i = 1\n",
    "while i < 5:\n",
    "    print(i)\n",
    "    i += 1\n",
    "else:\n",
    "    print(\"else:\", i)"
   ]
  },
  {
   "cell_type": "code",
   "execution_count": 46,
   "metadata": {},
   "outputs": [
    {
     "name": "stdout",
     "output_type": "stream",
     "text": [
      "0\n",
      "1\n",
      "2\n",
      "3\n",
      "4\n",
      "else: 4\n"
     ]
    }
   ],
   "source": [
    "for i in range(5):\n",
    "    print(i)\n",
    "else:\n",
    "    print(\"else:\", i)"
   ]
  },
  {
   "cell_type": "markdown",
   "metadata": {},
   "source": [
    "### Lab"
   ]
  },
  {
   "cell_type": "markdown",
   "metadata": {},
   "source": [
    "Listen to this story: a boy and his father, a computer programmer, are playing with wooden blocks. They are building a pyramid.\n",
    "\n",
    "Their pyramid is a bit weird, as it is actually a pyramid-shaped wall - it's flat. The pyramid is stacked according to one simple principle: each lower layer contains one block more than the layer above.\n",
    "\n",
    "The figure illustrates the rule used by the builders:\n",
    "\n",
    "```\n",
    "=\n",
    "==\n",
    "===\n",
    "blocks : 6\n",
    "height : 3\n",
    "```\n",
    "\n",
    "Your task is to write a program which reads the number of blocks the builders have, and outputs the height of the pyramid that can be built using these blocks.\n",
    "\n",
    "Note: the height is measured by the number of fully completed layers - if the builders don't have a sufficient number of blocks and cannot complete the next layer, they finish their work immediately.\n",
    "\n",
    "Test your code using the data we've provided.\n",
    "\n",
    "Sample input: `6`\n",
    "\n",
    "Expected output: The height of the pyramid: `3`\n",
    "\n",
    "Sample input: `20`\n",
    "\n",
    "Expected output: The height of the pyramid: `5`\n",
    "\n",
    "Sample input: `1000`\n",
    "\n",
    "Expected output: The height of the pyramid: `44`\n",
    "\n",
    "Sample input: `2`\n",
    "\n",
    "Expected output: The height of the pyramid: `1`\n",
    "\n"
   ]
  },
  {
   "cell_type": "code",
   "execution_count": 7,
   "metadata": {},
   "outputs": [
    {
     "name": "stdout",
     "output_type": "stream",
     "text": [
      "Enter the number of blocks: 1000\n",
      "The height of the pyramid: 44\n"
     ]
    }
   ],
   "source": [
    "blocks = int(input(\"Enter the number of blocks: \"))\n",
    "current_block = 0\n",
    "height = 0\n",
    "while i<blocks:\n",
    "    height += 1\n",
    "    current_block += height\n",
    "    # print(i,current_block)\n",
    "    if current_block> blocks:\n",
    "        break\n",
    "\n",
    "height -= 1\n",
    "\n",
    "print(\"The height of the pyramid:\", height)"
   ]
  },
  {
   "cell_type": "markdown",
   "metadata": {},
   "source": [
    "### Lab\n",
    "\n",
    "In 1937, a German mathematician named Lothar Collatz formulated an intriguing hypothesis (it still remains unproven) which can be described in the following way:\n",
    "\n",
    "1. take any non-negative and non-zero integer number and name it  `c0`;\n",
    "2. if it's even, evaluate a new `c0` as `c0 ÷ 2`;\n",
    "3. otherwise, if it's odd, evaluate a new `c0` as `3 × c0 + 1`;\n",
    "4. if `c0 ≠ 1`, skip to point 2.\n",
    "\n",
    "The hypothesis says that regardless of the initial value of `c0`, it will always go to 1.\n",
    "\n",
    "Of course, it's an extremely complex task to use a computer in order to prove the hypothesis for any natural number (it may even require artificial intelligence), but you can use Python to check some individual numbers. Maybe you'll even find the one which would disprove the hypothesis.\n",
    "\n",
    "\n",
    "Write a program which reads one natural number and executes the above steps as long as `c0` remains different from 1. We also want you to count the steps needed to achieve the goal. Your code should output all the intermediate values of `c0`, too.\n",
    "\n",
    "Hint: the most important part of the problem is how to transform Collatz's idea into a while loop - this is the key to success.\n",
    "\n",
    "Test your code using the data we've provided.\n",
    "\n",
    "<b>Test Data</b>\n",
    "\n",
    "Sample input: `15`\n",
    "\n",
    "Expected output:\n",
    "```\n",
    "46\n",
    "23\n",
    "70\n",
    "35\n",
    "106\n",
    "53\n",
    "160\n",
    "80\n",
    "40\n",
    "20\n",
    "10\n",
    "5\n",
    "16\n",
    "8\n",
    "4\n",
    "2\n",
    "1\n",
    "steps = 17\n",
    "```\n",
    "\n",
    "Sample input: `16`\n",
    "\n",
    "Expected output:\n",
    "```\n",
    "8\n",
    "4\n",
    "2\n",
    "1\n",
    "steps = 4\n",
    "```\n",
    "\n",
    "\n",
    "Sample input: `1023`\n",
    "\n",
    "Expected output:\n",
    "```\n",
    "3070\n",
    "1535\n",
    "4606\n",
    "2303\n",
    "6910\n",
    "3455\n",
    "10366\n",
    "5183\n",
    "15550\n",
    "7775\n",
    "23326\n",
    "11663\n",
    "34990\n",
    "17495\n",
    "52486\n",
    "26243\n",
    "78730\n",
    "39365\n",
    "118096\n",
    "59048\n",
    "29524\n",
    "14762\n",
    "7381\n",
    "22144\n",
    "11072\n",
    "5536\n",
    "2768\n",
    "1384\n",
    "692\n",
    "346\n",
    "173\n",
    "520\n",
    "260\n",
    "130\n",
    "65\n",
    "196\n",
    "98\n",
    "49\n",
    "148\n",
    "74\n",
    "37\n",
    "112\n",
    "56\n",
    "28\n",
    "14\n",
    "7\n",
    "22\n",
    "11\n",
    "34\n",
    "17\n",
    "52\n",
    "26\n",
    "13\n",
    "40\n",
    "20\n",
    "10\n",
    "5\n",
    "16\n",
    "8\n",
    "4\n",
    "2\n",
    "1\n",
    "steps = 62\n",
    "```"
   ]
  },
  {
   "cell_type": "markdown",
   "metadata": {},
   "source": [
    "# Exercise\n",
    "\n",
    "<b>Exercise 1</b>\n",
    "\n",
    "Create a for loop that counts from 0 to 10, and prints odd numbers to the screen. Use the skeleton below:\n",
    "\n",
    "```python\n",
    "for i in range(1, 11):\n",
    "    # line of code\n",
    "        # line of code\n",
    "```\n",
    "<b>Exercise 2</b>\n",
    "\n",
    "Create a while loop that counts from 0 to 10, and prints odd numbers to the screen. Use the skeleton below:\n",
    "```python\n",
    "x = 1\n",
    "while x < 11:\n",
    "    # line of code\n",
    "        # line of code\n",
    "    # line of code\n",
    "```    \n",
    "<b>Exercise 3</b>\n",
    "\n",
    "Create a program with a for loop and a break statement. The program should iterate over characters in an email address, exit the loop when it reaches the @ symbol, and print the part before @ on one line. Use the skeleton below:\n",
    "```python\n",
    "for ch in \"john.smith@pythoninstitute.org\":\n",
    "    if ch == \"@\":\n",
    "        # line of code\n",
    "    # line of code\n",
    "```\n",
    "\n",
    "<b>Exercise 4</b>\n",
    "\n",
    "Create a program with a for loop and a continue statement. The program should iterate over a string of digits, replace each 0 with x, and print the modified string to the screen. Use the skeleton below:\n",
    "```python\n",
    "for digit in \"0165031806510\":\n",
    "    if digit == \"0\":\n",
    "        # line of code\n",
    "        # line of code\n",
    "    # line of code\n",
    "```\n",
    "<b>Exercise 5</b>\n",
    "\n",
    "What is the output of the following code?\n",
    "```python\n",
    "n = 3\n",
    "\n",
    "while n > 0:\n",
    "    print(n + 1)\n",
    "    n -= 1\n",
    "else:\n",
    "    print(n)\n",
    "```    \n",
    "<b>Exercise 6</b>\n",
    "\n",
    "What is the output of the following code?\n",
    "```python\n",
    "n = range(4)\n",
    "\n",
    "for num in n:\n",
    "    print(num - 1)\n",
    "else:\n",
    "    print(num)\n",
    "```\n",
    "<b>Exercise 7</b>\n",
    "\n",
    "What is the output of the following code?\n",
    "\n",
    "```python\n",
    "for i in range(0, 6, 3):\n",
    "    print(i)\n",
    "```"
   ]
  },
  {
   "cell_type": "markdown",
   "metadata": {},
   "source": [
    "# 3.1.3 Logika dan Operasi Bit"
   ]
  },
  {
   "cell_type": "markdown",
   "metadata": {},
   "source": [
    "Operasi Logika `and`\n",
    "\n",
    "| Argument A | Argument B | A and B |\n",
    "|------------|------------|---------|\n",
    "| False      | False      | False   |\n",
    "| False      | True       | False   |\n",
    "| True       | False      | False   |\n",
    "| True       | True       | True    |\n",
    "\n",
    "Operasi Logika `or`\n",
    "\n",
    "| Argument A | Argument B | A or B |\n",
    "|------------|------------|--------|\n",
    "| False      | False      | False  |\n",
    "| False      | True       | True   |\n",
    "| True       | False      | True   |\n",
    "| True       | True       | True   |\n",
    "\n",
    "Operasi Logika `not`\n",
    "\n",
    "| Argument | not Argument |\n",
    "|----------|--------------|\n",
    "| False    | True         |\n",
    "| True     | False        |\n"
   ]
  },
  {
   "cell_type": "markdown",
   "metadata": {},
   "source": [
    "> If we have some free time, <b>and</b> the weather is good, we will go for a walk\n",
    "\n",
    "> If you are in the mall <b>or</b> I am in the mall, one of us will buy a gift for Mom.\n",
    "\n"
   ]
  },
  {
   "cell_type": "code",
   "execution_count": null,
   "metadata": {},
   "outputs": [],
   "source": [
    "x = 1\n",
    "y = 0\n",
    "\n",
    "z = ((x == y) and (x == y)) or not(x == y)\n",
    "print(not(z))"
   ]
  },
  {
   "cell_type": "code",
   "execution_count": 8,
   "metadata": {},
   "outputs": [],
   "source": [
    "# sepertinya bitwise bisa kita skip dulu"
   ]
  },
  {
   "cell_type": "markdown",
   "metadata": {},
   "source": [
    "# 3.1.4 List - collection of data"
   ]
  },
  {
   "cell_type": "code",
   "execution_count": 29,
   "metadata": {},
   "outputs": [
    {
     "name": "stdout",
     "output_type": "stream",
     "text": [
      "[10, 5, 7, 2, 1]\n"
     ]
    }
   ],
   "source": [
    "var1 = 10\n",
    "var2 = 5\n",
    "var3 = 7\n",
    "var4 = 2\n",
    "var5 = 1\n",
    "\n",
    "# VERSUS #\n",
    "\n",
    "var = [10, 5, 7, 2, 1]\n",
    "print(var)"
   ]
  },
  {
   "cell_type": "code",
   "execution_count": 28,
   "metadata": {},
   "outputs": [
    {
     "name": "stdout",
     "output_type": "stream",
     "text": [
      "['Digital', 90, 1000.5, 'Talent']\n"
     ]
    }
   ],
   "source": [
    "#bisa menampung berbagai tipe data\n",
    "var = [\"Digital\", 90 , 1000.50 , \"Talent\"] \n",
    "print(var)"
   ]
  },
  {
   "cell_type": "markdown",
   "metadata": {},
   "source": [
    "### Indexing"
   ]
  },
  {
   "cell_type": "code",
   "execution_count": 14,
   "metadata": {},
   "outputs": [
    {
     "name": "stdout",
     "output_type": "stream",
     "text": [
      "[10, 5, 7, 2, 1]\n",
      "7\n",
      "10\n"
     ]
    }
   ],
   "source": [
    "numbers = [10, 5, 7, 2, 1]\n",
    "print(numbers)\n",
    "print(numbers[2])\n",
    "print(numbers[0])"
   ]
  },
  {
   "cell_type": "code",
   "execution_count": 31,
   "metadata": {},
   "outputs": [
    {
     "name": "stdout",
     "output_type": "stream",
     "text": [
      "Original list content: [10, 5, 7, 2, 1]\n",
      "\n",
      "Previous list content: [111, 5, 7, 2, 1]\n",
      "Previous list content: [111, 1, 7, 2, 1]\n",
      "\n",
      "List length: 5\n"
     ]
    }
   ],
   "source": [
    "numbers = [10, 5, 7, 2, 1]\n",
    "print(\"Original list content:\", numbers) # printing original list content\n",
    "\n",
    "numbers[0] = 111\n",
    "print(\"\\nPrevious list content:\", numbers) # printing previous list content\n",
    "\n",
    "numbers[1] = numbers[4] # copying value of the fifth element to the second\n",
    "print(\"Previous list content:\", numbers) # printing previous list content\n",
    "\n",
    "print(\"\\nList length:\", len(numbers)) # printing the list's length"
   ]
  },
  {
   "cell_type": "code",
   "execution_count": 32,
   "metadata": {},
   "outputs": [
    {
     "name": "stdout",
     "output_type": "stream",
     "text": [
      "[1, 111, 7, 2, 1]\n"
     ]
    }
   ],
   "source": [
    "# swap\n",
    "numbers[0] , numbers[1] = numbers[1] , numbers[0]\n",
    "print(numbers)"
   ]
  },
  {
   "cell_type": "markdown",
   "metadata": {},
   "source": [
    "### Menghapus Elemen "
   ]
  },
  {
   "cell_type": "code",
   "execution_count": 18,
   "metadata": {},
   "outputs": [
    {
     "name": "stdout",
     "output_type": "stream",
     "text": [
      "New list's length: 3\n",
      "\n",
      "New list content: [111, 2, 1]\n"
     ]
    }
   ],
   "source": [
    "# MENGHAPUS ELEMEN\n",
    "\n",
    "del numbers[1] # removing the second element from the list\n",
    "print(\"New list's length:\", len(numbers)) # printing new list length\n",
    "print(\"\\nNew list content:\", numbers) # printing current list content"
   ]
  },
  {
   "cell_type": "markdown",
   "metadata": {},
   "source": [
    "### Indeks Negatif"
   ]
  },
  {
   "cell_type": "code",
   "execution_count": null,
   "metadata": {},
   "outputs": [],
   "source": [
    "numbers = [111, 7, 2, 1]\n",
    "print(numbers[-1])\n",
    "print(numbers[-2])"
   ]
  },
  {
   "cell_type": "markdown",
   "metadata": {},
   "source": [
    "## Lab\n",
    "\n",
    "There once was a hat. The hat contained no rabbit, but a list of five numbers: 1, 2, 3, 4, and 5.\n",
    "\n",
    "Your task is to:\n",
    "\n",
    "- write a line of code that prompts the user to replace the middle number in the list with an integer number entered by the user (step 1)\n",
    "- write a line of code that removes the last element from the list (step 2)\n",
    "- write a line of code that prints the length of the existing list (step 3.)\n",
    "Ready for this challenge?"
   ]
  },
  {
   "cell_type": "code",
   "execution_count": 19,
   "metadata": {},
   "outputs": [
    {
     "name": "stdout",
     "output_type": "stream",
     "text": [
      "[1, 2, 3, 4, 5]\n"
     ]
    }
   ],
   "source": [
    "hatList = [1, 2, 3, 4, 5]  # This is an existing list of numbers hidden in the hat.\n",
    "\n",
    "# Step 1: write a line of code that prompts the user\n",
    "# to replace the middle number with an integer number entered by the user.\n",
    "\n",
    "# Step 2: write a line of code here that removes the last element from the list.\n",
    "\n",
    "# Step 3: write a line of code here that prints the length of the existing list.\n",
    "\n",
    "print(hatList)"
   ]
  },
  {
   "cell_type": "markdown",
   "metadata": {},
   "source": [
    "### List Method"
   ]
  },
  {
   "cell_type": "code",
   "execution_count": 20,
   "metadata": {},
   "outputs": [
    {
     "name": "stdout",
     "output_type": "stream",
     "text": [
      "4\n",
      "[111, 7, 2, 1]\n",
      "5\n",
      "[111, 7, 2, 1, 4]\n",
      "6\n",
      "[222, 111, 7, 2, 1, 4]\n"
     ]
    }
   ],
   "source": [
    "numbers = [111, 7, 2, 1]\n",
    "print(len(numbers))\n",
    "print(numbers)\n",
    "\n",
    "###\n",
    "\n",
    "numbers.append(4)\n",
    "\n",
    "print(len(numbers))\n",
    "print(numbers)\n",
    "\n",
    "###\n",
    "\n",
    "numbers.insert(0, 222)\n",
    "print(len(numbers))\n",
    "print(numbers)\n",
    "\n",
    "#"
   ]
  },
  {
   "cell_type": "code",
   "execution_count": 21,
   "metadata": {},
   "outputs": [
    {
     "name": "stdout",
     "output_type": "stream",
     "text": [
      "[1, 2, 3, 4, 5]\n"
     ]
    }
   ],
   "source": [
    "myList = [] # creating an empty list\n",
    "\n",
    "for i in range(5):\n",
    "    myList.append(i + 1)\n",
    "\n",
    "print(myList)"
   ]
  },
  {
   "cell_type": "code",
   "execution_count": 22,
   "metadata": {},
   "outputs": [
    {
     "name": "stdout",
     "output_type": "stream",
     "text": [
      "27\n"
     ]
    }
   ],
   "source": [
    "myList = [10, 1, 8, 3, 5]\n",
    "total = 0\n",
    "\n",
    "for i in range(len(myList)):\n",
    "    total += myList[i]\n",
    "\n",
    "print(total)"
   ]
  },
  {
   "cell_type": "markdown",
   "metadata": {},
   "source": [
    "### Lab\n",
    "\n",
    "The Beatles were one of the most popular music group of the 1960s, and the best-selling band in history. Some people consider them to be the most influential act of the rock era. Indeed, they were included in Time magazine's compilation of the 20th Century's 100 most influential people.\n",
    "\n",
    "The band underwent many line-up changes, culminating in 1962 with the line-up of John Lennon, Paul McCartney, George Harrison, and Richard Starkey (better known as Ringo Starr).\n",
    "\n",
    "\n",
    "Write a program that reflects these changes and lets you practice with the concept of lists. Your task is to:\n",
    "\n",
    "- step 1: create an empty list named `beatles`;\n",
    "- step 2: use the `append()` method to add the following members of the band to the list: `John Lennon`, `Paul McCartney`, and `George Harrison`;\n",
    "- step 3: use the `for` loop and the `append()` method to prompt the user to add the following members of the band to the list: `Stu Sutcliffe`, and `Pete Best`;\n",
    "- step 4: use the `del` instruction to remove `Stu Sutcliffe` and `Pete Best` from the list;\n",
    "- step 5: use the `insert()` method to add `Ringo Starr` to the beginning of the list.\n",
    "By the way, are you a Beatles fan?"
   ]
  },
  {
   "cell_type": "code",
   "execution_count": null,
   "metadata": {},
   "outputs": [],
   "source": [
    "# step 1\n",
    "print(\"Step 1:\", beatles)\n",
    "\n",
    "# step 2\n",
    "print(\"Step 2:\", beatles)\n",
    "\n",
    "# step 3\n",
    "print(\"Step 3:\", beatles)\n",
    "\n",
    "# step 4\n",
    "print(\"Step 4:\", beatles)\n",
    "\n",
    "# step 5\n",
    "print(\"Step 5:\", beatles)\n",
    "\n",
    "\n",
    "# testing list legth\n",
    "print(\"The Fab\", len(beatles))"
   ]
  },
  {
   "cell_type": "markdown",
   "metadata": {},
   "source": [
    "# 3.1.5 Bubble Sort\n",
    "<img src=\"https://codepumpkin.com/wp-content/uploads/2017/10/BubbleSort_worst_case.gif\" />"
   ]
  },
  {
   "cell_type": "code",
   "execution_count": 24,
   "metadata": {},
   "outputs": [
    {
     "name": "stdout",
     "output_type": "stream",
     "text": [
      "[2, 4, 6, 8, 10]\n"
     ]
    }
   ],
   "source": [
    "myList = [8, 10, 6, 2, 4] # list to sort\n",
    "swapped = True # it's a little fake - we need it to enter the while loop\n",
    "\n",
    "while swapped:\n",
    "    swapped = False # no swaps so far\n",
    "    for i in range(len(myList) - 1):\n",
    "        if myList[i] > myList[i + 1]:\n",
    "            swapped = True # swap occured!\n",
    "            myList[i], myList[i + 1] = myList[i + 1], myList[i]\n",
    "\n",
    "print(myList)"
   ]
  },
  {
   "cell_type": "code",
   "execution_count": 26,
   "metadata": {},
   "outputs": [
    {
     "name": "stdout",
     "output_type": "stream",
     "text": [
      "How many elements do you want to sort: 5\n",
      "Enter a list element: 2\n",
      "Enter a list element: 3\n",
      "Enter a list element: 4\n",
      "Enter a list element: 5\n",
      "Enter a list element: 6\n",
      "\n",
      "Sorted:\n",
      "[2.0, 3.0, 4.0, 5.0, 6.0]\n"
     ]
    }
   ],
   "source": [
    "myList = []\n",
    "swapped = True\n",
    "num = int(input(\"How many elements do you want to sort: \"))\n",
    "\n",
    "for i in range(num):\n",
    "    val = float(input(\"Enter a list element: \"))\n",
    "    myList.append(val)\n",
    "\n",
    "while swapped:\n",
    "    swapped = False\n",
    "    for i in range(len(myList) - 1):\n",
    "        if myList[i] > myList[i + 1]:\n",
    "            swapped = True\n",
    "            myList[i], myList[i + 1] = myList[i + 1], myList[i]\n",
    "\n",
    "print(\"\\nSorted:\")\n",
    "print(myList)"
   ]
  },
  {
   "cell_type": "code",
   "execution_count": null,
   "metadata": {},
   "outputs": [],
   "source": []
  }
 ],
 "metadata": {
  "kernelspec": {
   "display_name": "Python 3",
   "language": "python",
   "name": "python3"
  },
  "language_info": {
   "codemirror_mode": {
    "name": "ipython",
    "version": 3
   },
   "file_extension": ".py",
   "mimetype": "text/x-python",
   "name": "python",
   "nbconvert_exporter": "python",
   "pygments_lexer": "ipython3",
   "version": "3.6.4"
  }
 },
 "nbformat": 4,
 "nbformat_minor": 2
}
