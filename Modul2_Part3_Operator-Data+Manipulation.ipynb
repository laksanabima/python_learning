{
 "cells": [
  {
   "cell_type": "markdown",
   "metadata": {},
   "source": [
    "# Modul 2 : Data types, variables, basic input-output operations, basic operators\n",
    "\n",
    "## PART 3: Operators - data manipulation tools\n",
    "\n"
   ]
  },
  {
   "cell_type": "markdown",
   "metadata": {},
   "source": [
    "### Python as a calculator"
   ]
  },
  {
   "cell_type": "code",
   "execution_count": 1,
   "metadata": {},
   "outputs": [
    {
     "name": "stdout",
     "output_type": "stream",
     "text": [
      "4\n"
     ]
    }
   ],
   "source": [
    "print(2+2)"
   ]
  },
  {
   "cell_type": "markdown",
   "metadata": {},
   "source": [
    "### Basic operators\n",
    "An operator is a symbol of the programming language, which is able to operate on the values.<br>\n",
    "+, -, *, /, //, %, ** <br>\n",
    "\n",
    "*Remember: Data and operators when connected together form expressions. The simplest expression is a literal itself.*"
   ]
  },
  {
   "cell_type": "markdown",
   "metadata": {},
   "source": [
    "#### OPERATOR ARITMATIKA\n",
    "##### 1.Pangkat atau Exponentiation\n",
    "menggunakan $**$ (double asterisk) <br>\n",
    "misalkan 2**3 = 8\n",
    "\n",
    "ingat:\n",
    "- jika keduanya integer maka hasilnya integer\n",
    "- jika minimal ada satu yang float, maka hasilnya floating number juga.\n",
    "    "
   ]
  },
  {
   "cell_type": "code",
   "execution_count": 3,
   "metadata": {},
   "outputs": [
    {
     "name": "stdout",
     "output_type": "stream",
     "text": [
      "8\n",
      "8.0\n",
      "8.0\n",
      "8.0\n"
     ]
    }
   ],
   "source": [
    "print(2 ** 3)\n",
    "print(2 ** 3.)\n",
    "print(2. ** 3)\n",
    "print(2. ** 3.)"
   ]
  },
  {
   "cell_type": "markdown",
   "metadata": {},
   "source": [
    "##### 2. Perkalian \n",
    "Menggunakan * (asterisk)\n"
   ]
  },
  {
   "cell_type": "code",
   "execution_count": 4,
   "metadata": {},
   "outputs": [
    {
     "name": "stdout",
     "output_type": "stream",
     "text": [
      "6\n",
      "6.0\n",
      "6.0\n",
      "6.0\n"
     ]
    }
   ],
   "source": [
    "print(2 * 3)\n",
    "print(2 * 3.)\n",
    "print(2. * 3)\n",
    "print(2. * 3.)"
   ]
  },
  {
   "cell_type": "markdown",
   "metadata": {},
   "source": [
    "##### 3. Pembagian\n",
    "menggunakan / (slash)"
   ]
  },
  {
   "cell_type": "code",
   "execution_count": 7,
   "metadata": {},
   "outputs": [
    {
     "name": "stdout",
     "output_type": "stream",
     "text": [
      "2.0\n",
      "2.0\n",
      "2.0\n",
      "2.0\n"
     ]
    }
   ],
   "source": [
    "#setiap hasil dari pembagian adalah bilangan float\n",
    "\n",
    "print(6 / 3)\n",
    "print(6 / 3.)\n",
    "print(6. / 3)\n",
    "print(6. / 3.)"
   ]
  },
  {
   "cell_type": "markdown",
   "metadata": {},
   "source": [
    "##### 4. Pembagian Integer\n",
    "menggunakan // (double slash)"
   ]
  },
  {
   "cell_type": "code",
   "execution_count": 9,
   "metadata": {},
   "outputs": [
    {
     "name": "stdout",
     "output_type": "stream",
     "text": [
      "2\n",
      "2.0\n",
      "2.0\n",
      "2.0\n"
     ]
    }
   ],
   "source": [
    "# menghasilkan integer ketika sama-sama integer, selainnya hasilnya adalah float\n",
    "\n",
    "print(6 // 3)\n",
    "print(6 // 3.)\n",
    "print(6. // 3)\n",
    "print(6. // 3.)"
   ]
  },
  {
   "cell_type": "code",
   "execution_count": 12,
   "metadata": {},
   "outputs": [
    {
     "name": "stdout",
     "output_type": "stream",
     "text": [
      "1\n",
      "1.0\n"
     ]
    }
   ],
   "source": [
    "#pembulatan selalu kebawah\n",
    "\n",
    "print(6 // 4)\n",
    "print(6. // 4)\n",
    "\n",
    "#Note: Integer division can also be called floor division. You will definitely come across this term in the future."
   ]
  },
  {
   "cell_type": "code",
   "execution_count": 13,
   "metadata": {},
   "outputs": [
    {
     "name": "stdout",
     "output_type": "stream",
     "text": [
      "-2\n",
      "-2.0\n"
     ]
    }
   ],
   "source": [
    "print(-6 // 4)\n",
    "print(6. // -4)"
   ]
  },
  {
   "cell_type": "markdown",
   "metadata": {},
   "source": [
    "##### 5. MODULA\n",
    "menggunakan % (percent)"
   ]
  },
  {
   "cell_type": "code",
   "execution_count": 16,
   "metadata": {},
   "outputs": [
    {
     "name": "stdout",
     "output_type": "stream",
     "text": [
      "2\n"
     ]
    }
   ],
   "source": [
    "print(14 % 4)\n",
    "\n",
    "# 14/4= 3 bersisa 2"
   ]
  },
  {
   "cell_type": "code",
   "execution_count": 18,
   "metadata": {},
   "outputs": [
    {
     "data": {
      "text/plain": [
       "2"
      ]
     },
     "execution_count": 18,
     "metadata": {},
     "output_type": "execute_result"
    }
   ],
   "source": [
    "#prosesnya:\n",
    "\n",
    "14 // 4\n",
    "3 * 4\n",
    "14 - 12"
   ]
  },
  {
   "cell_type": "code",
   "execution_count": 19,
   "metadata": {},
   "outputs": [
    {
     "name": "stdout",
     "output_type": "stream",
     "text": [
      "3.0\n"
     ]
    }
   ],
   "source": [
    "print(12 % 4.5) #hasilnya akan float"
   ]
  },
  {
   "cell_type": "code",
   "execution_count": 22,
   "metadata": {},
   "outputs": [
    {
     "ename": "ZeroDivisionError",
     "evalue": "division by zero",
     "output_type": "error",
     "traceback": [
      "\u001b[1;31m---------------------------------------------------------------------------\u001b[0m",
      "\u001b[1;31mZeroDivisionError\u001b[0m                         Traceback (most recent call last)",
      "\u001b[1;32m<ipython-input-22-766960beecfd>\u001b[0m in \u001b[0;36m<module>\u001b[1;34m()\u001b[0m\n\u001b[0;32m      1\u001b[0m \u001b[1;31m#yang tidak boleh menjadi pembagi:0 karena tidak akan ada hasilnya\u001b[0m\u001b[1;33m\u001b[0m\u001b[1;33m\u001b[0m\u001b[0m\n\u001b[1;32m----> 2\u001b[1;33m \u001b[1;36m4\u001b[0m\u001b[1;33m/\u001b[0m\u001b[1;36m0\u001b[0m\u001b[1;33m\u001b[0m\u001b[0m\n\u001b[0m",
      "\u001b[1;31mZeroDivisionError\u001b[0m: division by zero"
     ]
    }
   ],
   "source": [
    "#yang tidak boleh menjadi pembagi:0 karena tidak akan ada hasilnya\n",
    "4/0"
   ]
  },
  {
   "cell_type": "markdown",
   "metadata": {},
   "source": [
    "###### Operators: how not to divide\n",
    "As you probably know, division by zero doesn't work.\n",
    "\n",
    "Do not try to:\n",
    "\n",
    "perform a division by zero;\n",
    "perform an integer division by zero;\n",
    "find a remainder of a division by zero."
   ]
  },
  {
   "cell_type": "markdown",
   "metadata": {},
   "source": [
    "##### 6. Penambahan\n",
    "menggunakan +\n"
   ]
  },
  {
   "cell_type": "code",
   "execution_count": 24,
   "metadata": {},
   "outputs": [
    {
     "name": "stdout",
     "output_type": "stream",
     "text": [
      "0\n",
      "4.0\n"
     ]
    }
   ],
   "source": [
    "print(-4 + 4)\n",
    "print(-4. + 8)"
   ]
  },
  {
   "cell_type": "markdown",
   "metadata": {},
   "source": [
    "##### 7. Pengurangan \n",
    "menggunakan -"
   ]
  },
  {
   "cell_type": "code",
   "execution_count": 25,
   "metadata": {},
   "outputs": [
    {
     "name": "stdout",
     "output_type": "stream",
     "text": [
      "-8\n",
      "-4.0\n",
      "-1.1\n"
     ]
    }
   ],
   "source": [
    "print(-4 - 4)\n",
    "print(4. - 8)\n",
    "print(-1.1)"
   ]
  },
  {
   "cell_type": "code",
   "execution_count": 27,
   "metadata": {},
   "outputs": [
    {
     "name": "stdout",
     "output_type": "stream",
     "text": [
      "2\n",
      "2\n"
     ]
    }
   ],
   "source": [
    "#jika angka dimulai dengan tanda + maka sama halnya dengan bilangan integer/float yang positif\n",
    "\n",
    "print(+2)\n",
    "print(2)"
   ]
  },
  {
   "cell_type": "markdown",
   "metadata": {},
   "source": [
    "##### Operator & Prioritas eksekusi"
   ]
  },
  {
   "cell_type": "code",
   "execution_count": 28,
   "metadata": {},
   "outputs": [
    {
     "data": {
      "text/plain": [
       "17"
      ]
     },
     "execution_count": 28,
     "metadata": {},
     "output_type": "execute_result"
    }
   ],
   "source": [
    "2 + 3 * 5  #perkalian dulu, baru penambahan"
   ]
  },
  {
   "cell_type": "code",
   "execution_count": 29,
   "metadata": {},
   "outputs": [
    {
     "name": "stdout",
     "output_type": "stream",
     "text": [
      "1\n"
     ]
    }
   ],
   "source": [
    "print(9 % 6 % 2) #eksekusi dari KIRI ke KANAN --> 9%6=3, 3%2=1"
   ]
  },
  {
   "cell_type": "code",
   "execution_count": 31,
   "metadata": {},
   "outputs": [
    {
     "name": "stdout",
     "output_type": "stream",
     "text": [
      "256\n"
     ]
    }
   ],
   "source": [
    "print(2 ** 2 ** 3) #eksekusi dari KANAN ke KIRI\n",
    "\n",
    "#the exponentiation operator uses right-sided bind"
   ]
  },
  {
   "cell_type": "code",
   "execution_count": 33,
   "metadata": {},
   "outputs": [
    {
     "name": "stdout",
     "output_type": "stream",
     "text": [
      "1\n"
     ]
    }
   ],
   "source": [
    "print(2 * 3 % 5)"
   ]
  },
  {
   "cell_type": "code",
   "execution_count": 34,
   "metadata": {},
   "outputs": [
    {
     "name": "stdout",
     "output_type": "stream",
     "text": [
      "10.0\n"
     ]
    }
   ],
   "source": [
    "#OPERATOR DIDALAM KURUNG AKAN DIEKSEKUSI TERLEBIH DULU\n",
    "\n",
    "print((5 * ((25 % 13) + 100) / (2 * 13)) // 2)  "
   ]
  },
  {
   "attachments": {
    "image.png": {
     "image/png": "[encoded data removed]"
    }
   },
   "cell_type": "markdown",
   "metadata": {},
   "source": [
    "![image.png](attachment:image.png)\n",
    "\n",
    "Note: we've enumerated the operators in order from the highest (1) to the lowest (4) priorities."
   ]
  },
  {
   "cell_type": "markdown",
   "metadata": {},
   "source": [
    "### Key takeaways\n",
    "1. An expression is a combination of values (or variables, operators, calls to functions - you will learn about them soon) which evaluates to a value, e.g., 1 + 2.\n",
    "\n",
    "2. Operators are special symbols or keywords which are able to operate on the values and perform (mathematical) operations, e.g., the * operator multiplies two values: x * y.\n",
    "\n",
    "3. Arithmetic operators in Python: + (addition), - (subtraction), * (multiplication), / (classic division - returns a float if one of the values is of float type), % (modulus - divides left operand by right operand and returns the remainder of the operation, e.g., 5 % 2 = 1), ** (exponentiation - left operand raised to the power of right operand, e.g., 2 ** 3 = 2 * 2 * 2 = 8), // (floor/integer division - returns a number resulting from division, but rounded down to the nearest whole number, e.g., 3 // 2.0 = 1.0)\n",
    "\n",
    "4. A unary operator is an operator with only one operand, e.g., -1, or +3.\n",
    "\n",
    "5. A binary operator is an operator with two operands, e.g., 4 + 5, or 12 % 5.\n",
    "\n",
    "6. Some operators act before others - the hierarchy of priorities:\n",
    "\n",
    "unary + and - have the highest priority\n",
    "then: **, then: *, /, and %, and then the lowest priority: binary + and -.\n",
    "7. Subexpressions in parentheses are always calculated first, e.g., 15 - 1 * (5 * (1 + 2)) = 0.\n",
    "\n",
    "8. The exponentiation operator uses right-sided binding, e.g., 2 ** 2 ** 3 = 256."
   ]
  },
  {
   "cell_type": "code",
   "execution_count": 35,
   "metadata": {},
   "outputs": [
    {
     "name": "stdout",
     "output_type": "stream",
     "text": [
      "16 8.0 8\n"
     ]
    }
   ],
   "source": [
    "#Exercise 1\n",
    "#What is the output of the following snippet?\n",
    "\n",
    "print((2 ** 4), (2 * 4.), (2 * 4))"
   ]
  },
  {
   "cell_type": "code",
   "execution_count": 36,
   "metadata": {},
   "outputs": [
    {
     "name": "stdout",
     "output_type": "stream",
     "text": [
      "-0.5 0.5 0 -1\n"
     ]
    }
   ],
   "source": [
    "#Exercise 2\n",
    "#What is the output of the following snippet?\n",
    "\n",
    "print((-2 / 4), (2 / 4), (2 // 4), (-2 // 4))"
   ]
  },
  {
   "cell_type": "code",
   "execution_count": 37,
   "metadata": {},
   "outputs": [
    {
     "name": "stdout",
     "output_type": "stream",
     "text": [
      "-2 2 512\n"
     ]
    }
   ],
   "source": [
    "#Exercise 3\n",
    "#What is the output of the following snippet?\n",
    "\n",
    "print((2 % -4), (2 % 4), (2 ** 3 ** 2))"
   ]
  },
  {
   "cell_type": "code",
   "execution_count": null,
   "metadata": {
    "collapsed": true
   },
   "outputs": [],
   "source": []
  }
 ],
 "metadata": {
  "kernelspec": {
   "display_name": "Python 3",
   "language": "python",
   "name": "python3"
  },
  "language_info": {
   "codemirror_mode": {
    "name": "ipython",
    "version": 3
   },
   "file_extension": ".py",
   "mimetype": "text/x-python",
   "name": "python",
   "nbconvert_exporter": "python",
   "pygments_lexer": "ipython3",
   "version": "3.6.3"
  }
 },
 "nbformat": 4,
 "nbformat_minor": 2
}
