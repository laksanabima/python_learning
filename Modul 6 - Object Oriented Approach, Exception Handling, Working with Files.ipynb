{
 "cells": [
  {
   "cell_type": "markdown",
   "metadata": {},
   "source": [
    "# Introduction to OOPs in Python\n",
    "\n",
    "source: https://www.programiz.com/python-programming/object-oriented-programming\n",
    "\n",
    "Python itu adalah sebuah bahasa pemrograman multi purpose dan multi paradigm, artinya python dapat men support berbagai pendekatan pemrograman.\n",
    "\n",
    "Salah satu pendekatan yang populer, adalah Object Oriented Programming, atau pemrograman berorientasi objek. Nah selama ini, kita sebetulnya menggunakan pendekatan pemrograman prosedural. Bagaimana perbedaan antara paradigma pemrograman prosedural dengan yang berbasis objek?\n",
    "\n",
    "Sebelumnya kita membahasa dulu apa itu objek. Jadi, objek itu memiliki dua karakteristik.\n",
    "\n",
    "1. attributes\n",
    "2. behavior\n",
    "\n",
    "Mari kita lihat contohnya:\n",
    "\n",
    "Parrot (burung beo) adalah sebuah objek,\n",
    "\n",
    "name, age, color (nama, usia, warna) adalah atributnya\n",
    "singing, dancing (menyanyi, menari) adalah behavior nya\n",
    "\n",
    "Konsep dari OOP dalam python ini berfokus dalam pembuatan kode yang reusable (dapat digunakan kembali). Konsep ini juga dikenal dengan DRY (Don't Repeat Yourself).\n",
    "\n",
    "Dalam python, konsep OOP memiliki beberapa prinsip dasar:\n",
    "\n",
    "| Sifat   | Deskripsi   |\n",
    "|---------------|---------------------------------------------------------------------------------|\n",
    "| Inheritance   | Proses dalam menggunakan atribut dan behaviour dari class yang telah ada sebelumnya.   |\n",
    "| Encapsulation | Menyembunyikan atribut dan behavior yang bersifat private dari kelas lainnya.                       |\n",
    "| Polymorphism  | Sebuah konsep untuk menggunakan operasi yang sama dengan cara yang berbeda pada kelas lain. |\n",
    "\n",
    "Konsep ini akan terlihat lebih mudah dalam prakteknya nanti"
   ]
  },
  {
   "cell_type": "markdown",
   "metadata": {},
   "source": [
    "# Class\n",
    "\n",
    "Class adalah sebuah blueprint untuk objek.\n",
    "\n",
    "Kalau kita berbicara mengenai parrot (burung beo), blueprint atau desainnya, parrot tersebut akan memiliki nama, warna, ukuran, dll. Parrot juga nantinya bisa singing dan dancing. Oleh karena itu kita bisa membuat parrot menjadi sebuah kelas.\n",
    "\n",
    "Untuk membuat kelas parrot yang sederhana kita bisa menuliskan kode berikut :\n",
    "\n",
    "```python\n",
    "class Parrot:\n",
    "```\n",
    "\n",
    "Kata kunci `class` diikuti dengan `Parrot` mendefinisikan blueprint dari class parrot. Blueprint ini nantinya akan di realisasikan dalam sebuah instance.\n"
   ]
  },
  {
   "cell_type": "markdown",
   "metadata": {},
   "source": [
    "# Object / Instance\n",
    "\n",
    "Sebuah objek (instance) adalah perwujudan dari sebuah class.\n",
    "\n",
    "Contoh dari membuat sebuah objek (instance) adalah sebagai berikut:\n",
    "```python\n",
    "papi = Parrot()\n",
    "```\n",
    "\n",
    "Disini, `papi` adalah perwujudan `Parrot`\n",
    "\n",
    "Sekarang coba kita lihat kode lengkap dari pembuatan objek dan class"
   ]
  },
  {
   "cell_type": "code",
   "execution_count": 50,
   "metadata": {},
   "outputs": [
    {
     "name": "stdout",
     "output_type": "stream",
     "text": [
      "Papi is a bird\n",
      "Greeny is also a TIger\n",
      "Papi is 3 years old\n",
      "Greeny is 5 years old\n"
     ]
    }
   ],
   "source": [
    "class Parrot:\n",
    "\n",
    "    # class attribute\n",
    "    species = \"bird\"\n",
    "\n",
    "    # instance attribute\n",
    "    # constructor\n",
    "    def __init__(self, name, age):\n",
    "        self.name = name\n",
    "        self.age = age\n",
    "\n",
    "# instantiate the Parrot class\n",
    "papi = Parrot(\"Papi\", 3)\n",
    "greeny = Parrot(\"Greeny\", 5)\n",
    "\n",
    "# access the class attributes\n",
    "print(\"Papi is a \" + papi.species)\n",
    "print(\"Greeny is also a \" + greeny.species)\n",
    "\n",
    "# access the instance attributes\n",
    "print(papi.name + \" is \" + str(papi.age) + \" years old\")\n",
    "print(greeny.name + \" is \" + str(greeny.age) + \" years old\")"
   ]
  },
  {
   "cell_type": "markdown",
   "metadata": {},
   "source": [
    "Dalam program diatas, kita baru saja membuat class dengan nama `Parrot`. Kemudian, kita mendifinisikan atribut dari parrot yaitu `name` dan `age`. Atribut merupakan karakteristik dari objek.\n",
    "\n",
    "Kemudian, kita membuat instance, atau realisasi, atau perwujudan dari class `Parrot`. Disini `papi` dan `greeny` adalah instance-nya.\n",
    "\n",
    "Kemudian, kita dapat mengakses atributnya melalui instance dengan diikuti tanda `.`"
   ]
  },
  {
   "cell_type": "markdown",
   "metadata": {},
   "source": [
    "# Methods\n",
    "\n",
    "Methods adalah function yang didefinisikan dalam sebuah class. Function ini seharusnya mendefinisikan behavior dari objeknya."
   ]
  },
  {
   "cell_type": "code",
   "execution_count": 52,
   "metadata": {},
   "outputs": [
    {
     "name": "stdout",
     "output_type": "stream",
     "text": [
      "Papi sings 'Happy'\n",
      "Papi is now dancing\n"
     ]
    }
   ],
   "source": [
    "class Parrot:\n",
    "    \n",
    "    # instance attributes\n",
    "    def __init__(self, name, age):\n",
    "        self.name = name\n",
    "        self.age = age\n",
    "    \n",
    "    # instance method\n",
    "    def sing(self, song):\n",
    "        return \"{} sings {}\".format(self.name, song)\n",
    "\n",
    "    def dance(self):\n",
    "        return \"{} is now dancing\".format(self.name)\n",
    "\n",
    "# instantiate the object\n",
    "papi = Parrot(\"Papi\", 10)\n",
    "\n",
    "# call our instance methods\n",
    "print(papi.sing(\"'Happy'\"))\n",
    "print(papi.dance())"
   ]
  },
  {
   "cell_type": "markdown",
   "metadata": {},
   "source": [
    "Dalam program diatas, kita mendefinisikan dua method yaitu `sing` dan `dance`. Mereka adalah `instance method` yang dipanggil pada instance objek yaitu `papi`."
   ]
  },
  {
   "cell_type": "markdown",
   "metadata": {},
   "source": [
    "# Inheritance / Pewarisan\n",
    "\n",
    "Inheritance adalah sebuah cara untuk membuat class baru dengan menggunakan detail dari kelas lainnya. Kelas yang baru ini akan mewariskan atribut serta method yang sudah didefinisikan dari class utamanya. Kelas yang baru ini sering disebut dengan `child class` dan kelas yang digunakan detailnya sering disebut sebagai `parent class`.\n",
    "\n"
   ]
  },
  {
   "cell_type": "code",
   "execution_count": 60,
   "metadata": {},
   "outputs": [
    {
     "name": "stdout",
     "output_type": "stream",
     "text": [
      "Bird is ready\n",
      "Penguin is ready\n",
      "Penguin\n",
      "Swim faster\n",
      "Run faster\n"
     ]
    }
   ],
   "source": [
    "# parent class\n",
    "class Bird:\n",
    "    \n",
    "    def __init__(self):\n",
    "        print(\"Bird is ready\")\n",
    "\n",
    "    def whoisThis(self):\n",
    "        print(\"Bird\")\n",
    "\n",
    "    def swim(self):\n",
    "        print(\"Swim faster\")\n",
    "\n",
    "# child class\n",
    "class Penguin(Bird):\n",
    "\n",
    "    def __init__(self):\n",
    "        # call super() function\n",
    "        super().__init__()\n",
    "        print(\"Penguin is ready\")\n",
    "\n",
    "    def whoisThis(self):\n",
    "        print(\"Penguin\")\n",
    "\n",
    "    def run(self):\n",
    "        print(\"Run faster\")\n",
    "\n",
    "peggy = Penguin()\n",
    "peggy.whoisThis()\n",
    "peggy.swim()\n",
    "peggy.run()"
   ]
  },
  {
   "cell_type": "markdown",
   "metadata": {},
   "source": [
    "Hal penting yang dapat diperhatikan:\n",
    "- Bird adalah parent class dari Penguin dengan sintaks `Penguin(Bird)`. Relasi pewarisan ini harus di validasi dengan hubungan \"is a\". Contohnya Penguin is a Bird merupakan valid karena Penguin adalah termasuk Bird.\n",
    "- `super().__init__()` memanggil konstruktor dari kelas parent nya\n",
    "- method `whoisThis()` yang ditulis ulang di `Penguin` akan menimpa atau override method yang sudah ada di parent class (`Bird`).\n",
    "- method swim dapat dipanggil oleh instance dari `Penguin` karena `Penguin` sudah mewarisi seluruh method yang ada pada kelas `Bird`."
   ]
  },
  {
   "cell_type": "markdown",
   "metadata": {},
   "source": [
    "# Encapsulation\n",
    "\n",
    "Kita dapat membatasi akses atribut dan method dalam sebuah kelas dengan memanfaatkan sifat private yang di definisikan dengan garis bawah atau underscore single `_` atau double `__`\n"
   ]
  },
  {
   "cell_type": "code",
   "execution_count": 83,
   "metadata": {},
   "outputs": [
    {
     "name": "stdout",
     "output_type": "stream",
     "text": [
      "Saldo saat ini 1000\n",
      "Gagal Debit, Jumlah melebihi Saldo!\n"
     ]
    }
   ],
   "source": [
    "class Rekening:\n",
    "    def __init__(self):\n",
    "        self.__saldo = 0\n",
    "        \n",
    "    def kredit(self, jumlah):\n",
    "        if jumlah < 0:\n",
    "            print(\"Gagal Kredit, Jumlah tidak bisa kurang dari 0\")\n",
    "            return\n",
    "        \n",
    "        self.__saldo += jumlah\n",
    "        \n",
    "    def debit(self, jumlah):\n",
    "        if jumlah > self.__saldo:\n",
    "            print(\"Gagal Debit, Jumlah melebihi Saldo!\")\n",
    "            return\n",
    "        \n",
    "        if jumlah < 0:\n",
    "            print(\"Gagal Debit, Jumlah tidak bisa kurang dari 0\")\n",
    "            return\n",
    "        \n",
    "        self.__saldo -= jumlah\n",
    "        \n",
    "    def cetakSaldo(self):\n",
    "        print(\"Saldo saat ini \" + str(self.__saldo))\n",
    "\n",
    "bniBudi = Rekening()\n",
    "bniBudi.kredit(1000)\n",
    "bniBudi.cetakSaldo()\n",
    "bniBudi.debit(100000)\n"
   ]
  },
  {
   "cell_type": "markdown",
   "metadata": {},
   "source": [
    "Pada program diatas, atribut `saldo` bersifat private karena kita memberikan underscore `__saldo`. Oleh karena itu, kita tidak bisa meruba nya secara langsung seperti dengan sintaks `c.__saldo = 1000`. Pada umumnya, atribut private ini dapat kita rubah dengan melewatkan pada sebuah method yang publik. Dalam hal ini method tersebut adalah `kredit()` dan `debit()`."
   ]
  },
  {
   "cell_type": "markdown",
   "metadata": {},
   "source": [
    "# CONTOH DARI NETACAD"
   ]
  },
  {
   "cell_type": "markdown",
   "metadata": {},
   "source": [
    "<img src=\"images/stack.PNG\" width=200 />\n",
    "\n",
    "Lihat kode dengan paradigma prosedural berikut:"
   ]
  },
  {
   "cell_type": "code",
   "execution_count": 85,
   "metadata": {},
   "outputs": [
    {
     "name": "stdout",
     "output_type": "stream",
     "text": [
      "1\n",
      "2\n",
      "3\n"
     ]
    }
   ],
   "source": [
    "stack = []\n",
    "\n",
    "def push(val):\n",
    "    stack.append(val)\n",
    "\n",
    "\n",
    "def pop():\n",
    "    val = stack[-1]\n",
    "    del stack[-1]\n",
    "    return val\n",
    "\n",
    "push(3)\n",
    "push(2)\n",
    "push(1)\n",
    "\n",
    "print(pop())\n",
    "print(pop())\n",
    "print(pop())"
   ]
  },
  {
   "cell_type": "markdown",
   "metadata": {},
   "source": [
    "### Pertama buat atributnya"
   ]
  },
  {
   "cell_type": "code",
   "execution_count": null,
   "metadata": {},
   "outputs": [],
   "source": [
    "class Stack:\n",
    "    def __init__(self):\n",
    "        self.stackList = []\n",
    "\n",
    "stackObject = Stack()\n",
    "print(len(stackObject.stackList))"
   ]
  },
  {
   "cell_type": "markdown",
   "metadata": {},
   "source": [
    "### Kemudian ubah atributnya menjadi private"
   ]
  },
  {
   "cell_type": "code",
   "execution_count": null,
   "metadata": {},
   "outputs": [],
   "source": [
    "class Stack:\n",
    "    def __init__(self):\n",
    "        self.__stackList = [] # __ membuat private\n",
    "\n",
    "stackObject = Stack()\n",
    "print(len(stackObject.__stackList))"
   ]
  },
  {
   "cell_type": "markdown",
   "metadata": {},
   "source": [
    "### Tambahkan method push dan pop nya"
   ]
  },
  {
   "cell_type": "code",
   "execution_count": null,
   "metadata": {},
   "outputs": [],
   "source": [
    "class Stack:\n",
    "    def __init__(self):\n",
    "        self.__stackList = []\n",
    "\n",
    "    def push(self, val):\n",
    "        self.__stackList.append(val)\n",
    "\n",
    "    def pop(self):\n",
    "        val = self.__stackList[-1]\n",
    "        del self.__stackList[-1]\n",
    "        return val\n",
    "\n",
    "\n",
    "stackObject = Stack()\n",
    "\n",
    "stackObject.push(3)\n",
    "stackObject.push(2)\n",
    "stackObject.push(1)\n",
    "\n",
    "print(stackObject.pop())\n",
    "print(stackObject.pop())\n",
    "print(stackObject.pop())"
   ]
  },
  {
   "cell_type": "markdown",
   "metadata": {},
   "source": [
    "### Contoh dengan beberapa Instance"
   ]
  },
  {
   "cell_type": "code",
   "execution_count": null,
   "metadata": {},
   "outputs": [],
   "source": [
    "class Stack:\n",
    "    def __init__(self):\n",
    "        self.__stackList = []\n",
    "\n",
    "    def push(self, val):\n",
    "        self.__stackList.append(val)\n",
    "\n",
    "    def pop(self):\n",
    "        val = self.__stackList[-1]\n",
    "        del self.__stackList[-1]\n",
    "        return val\n",
    "\n",
    "littleStack = Stack()\n",
    "anotherStack = Stack()\n",
    "funnyStack = Stack()\n",
    "\n",
    "littleStack.push(1)\n",
    "anotherStack.push(littleStack.pop() + 1)\n",
    "funnyStack.push(anotherStack.pop() - 2)\n",
    "\n",
    "print(funnyStack.pop())"
   ]
  },
  {
   "cell_type": "markdown",
   "metadata": {},
   "source": [
    "### Inheritance"
   ]
  },
  {
   "cell_type": "code",
   "execution_count": null,
   "metadata": {},
   "outputs": [],
   "source": [
    "class Stack:\n",
    "    def __init__(self):\n",
    "        self.__stackList = []\n",
    "\n",
    "    def push(self, val):\n",
    "        self.__stackList.append(val)\n",
    "\n",
    "    def pop(self):\n",
    "        val = self.__stackList[-1]\n",
    "        del self.__stackList[-1]\n",
    "        return val\n",
    "\n",
    "\n",
    "class AddingStack(Stack):\n",
    "    def __init__(self):\n",
    "        Stack.__init__(self)\n",
    "        self.__sum = 0\n",
    "\n",
    "    def getSum(self):\n",
    "        return self.__sum\n",
    "\n",
    "    def push(self, val):\n",
    "        self.__sum += val\n",
    "        Stack.push(self, val)\n",
    "\n",
    "    def pop(self):\n",
    "        val = Stack.pop(self)\n",
    "        self.__sum -= val\n",
    "        return val\n",
    "\n",
    "\n",
    "stackObject = AddingStack()\n",
    "\n",
    "for i in range(5):\n",
    "    stackObject.push(i)\n",
    "print(stackObject.getSum())\n",
    "\n",
    "for i in range(5):\n",
    "    print(stackObject.pop())"
   ]
  },
  {
   "cell_type": "markdown",
   "metadata": {},
   "source": [
    "# Exception Once Again\n",
    "\n"
   ]
  },
  {
   "cell_type": "markdown",
   "metadata": {},
   "source": [
    "### Else"
   ]
  },
  {
   "cell_type": "code",
   "execution_count": 38,
   "metadata": {},
   "outputs": [
    {
     "name": "stdout",
     "output_type": "stream",
     "text": [
      "Everything went fine\n",
      "0.5\n",
      "Division failed\n",
      "None\n"
     ]
    }
   ],
   "source": [
    "def reciprocal(n):\n",
    "    try:\n",
    "        n = 1 / n\n",
    "    except ZeroDivisionError:\n",
    "        print(\"Division failed\")\n",
    "        return None\n",
    "    else:\n",
    "        print(\"Everything went fine\")\n",
    "        return n\n",
    "\n",
    "print(reciprocal(2))\n",
    "print(reciprocal(0))"
   ]
  },
  {
   "cell_type": "markdown",
   "metadata": {},
   "source": [
    "### Finally"
   ]
  },
  {
   "cell_type": "code",
   "execution_count": 39,
   "metadata": {},
   "outputs": [
    {
     "name": "stdout",
     "output_type": "stream",
     "text": [
      "Everything went fine\n",
      "It's time to say goodbye\n",
      "0.5\n",
      "Division failed\n",
      "It's time to say goodbye\n",
      "None\n"
     ]
    }
   ],
   "source": [
    "def reciprocal(n):\n",
    "    try:\n",
    "        n = 1 / n\n",
    "    except ZeroDivisionError:\n",
    "        print(\"Division failed\")\n",
    "        n = None\n",
    "    else:\n",
    "        print(\"Everything went fine\")\n",
    "    finally:\n",
    "        print(\"It's time to say goodbye\")\n",
    "        return n\n",
    "\n",
    "print(reciprocal(2))\n",
    "print(reciprocal(0))"
   ]
  },
  {
   "cell_type": "markdown",
   "metadata": {},
   "source": [
    "### Any Class Exception"
   ]
  },
  {
   "cell_type": "code",
   "execution_count": 40,
   "metadata": {},
   "outputs": [
    {
     "name": "stdout",
     "output_type": "stream",
     "text": [
      "invalid literal for int() with base 10: 'Hello!'\n",
      "invalid literal for int() with base 10: 'Hello!'\n"
     ]
    }
   ],
   "source": [
    "try:\n",
    "    i = int(\"Hello!\")\n",
    "except Exception as e:\n",
    "    print(e)\n",
    "    print(e.__str__())"
   ]
  },
  {
   "cell_type": "markdown",
   "metadata": {},
   "source": [
    "# Processing Files"
   ]
  },
  {
   "cell_type": "code",
   "execution_count": null,
   "metadata": {},
   "outputs": [],
   "source": [
    "stream = open(\"tzop.txt\", \"rt\", encoding = \"utf-8\") # opening tzop.txt in read mode, returning it as a file object\n",
    "print(stream.read()) # printing the content of the file"
   ]
  },
  {
   "cell_type": "code",
   "execution_count": null,
   "metadata": {},
   "outputs": [],
   "source": [
    "from os import strerror\n",
    "\n",
    "try:\n",
    "    cnt = 0\n",
    "    s = open('tzop.txt', \"rt\")\n",
    "    ch = s.read(1)\n",
    "    while ch != '':\n",
    "        print(ch, end='')\n",
    "        cnt += 1\n",
    "        ch = s.read(1)\n",
    "    s.close()\n",
    "    print(\"\\n\\nCharacters in file:\", cnt)\n",
    "except IOError as e:\n",
    "    print(\"I/O error occurred: \", strerr(e.errno))"
   ]
  },
  {
   "cell_type": "code",
   "execution_count": null,
   "metadata": {},
   "outputs": [],
   "source": [
    "from os import strerror\n",
    "\n",
    "try:\n",
    "    ccnt = lcnt = 0\n",
    "    s = open('bangun_tidur.txt', 'rt')\n",
    "    line = s.readline()\n",
    "    while line != '':\n",
    "        lcnt += 1\n",
    "        for ch in line:\n",
    "            print(ch, end='')\n",
    "            ccnt += 1\n",
    "        line = s.readline()\n",
    "    s.close()\n",
    "    print(\"\\n\\nCharacters in file:\", ccnt)\n",
    "    print(\"Lines in file:     \", lcnt)\n",
    "except IOError as e:\n",
    "    print(\"I/O error occurred:\", strerr(e.errno))"
   ]
  },
  {
   "cell_type": "code",
   "execution_count": null,
   "metadata": {},
   "outputs": [],
   "source": [
    "from os import strerror\n",
    "\n",
    "try:\n",
    "    ccnt = lcnt = 0\n",
    "    s = open('bangun_tidur.txt', 'rt')\n",
    "    lines = s.readlines(20)\n",
    "    while len(lines) != 0:\n",
    "        for line in lines:\n",
    "            lcnt += 1\n",
    "            for ch in line:\n",
    "                print(ch, end='')\n",
    "                ccnt += 1\n",
    "        lines = s.readlines(10)\n",
    "    s.close()\n",
    "    print(\"\\n\\nCharacters in file:\", ccnt)\n",
    "    print(\"Lines in file:     \", lcnt)\n",
    "except IOError as e:\n",
    "    print(\"I/O error occurred:\", strerr(e.errno))"
   ]
  },
  {
   "cell_type": "code",
   "execution_count": null,
   "metadata": {},
   "outputs": [],
   "source": []
  }
 ],
 "metadata": {
  "kernelspec": {
   "display_name": "Python 3",
   "language": "python",
   "name": "python3"
  },
  "language_info": {
   "codemirror_mode": {
    "name": "ipython",
    "version": 3
   },
   "file_extension": ".py",
   "mimetype": "text/x-python",
   "name": "python",
   "nbconvert_exporter": "python",
   "pygments_lexer": "ipython3",
   "version": "3.6.4"
  }
 },
 "nbformat": 4,
 "nbformat_minor": 2
}
