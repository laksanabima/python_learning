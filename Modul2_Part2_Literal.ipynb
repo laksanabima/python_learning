{
 "cells": [
  {
   "cell_type": "markdown",
   "metadata": {},
   "source": [
    "# Modul 2 : Data types, variables, basic input-output operations, basic operators\n",
    "\n",
    "### Modul 2 - PART 2: Python literals\n"
   ]
  },
  {
   "cell_type": "markdown",
   "metadata": {},
   "source": [
    "### Literals - the data in itself\n",
    "Now that you have a little knowledge of some of the powerful features offered by the print() function, it's time to learn about some new issues, and one important new term - the literal.\n",
    "\n",
    "**A literal is data whose values are determined by the literal itself.**\n",
    "\n",
    "As this is a difficult concept to understand, a good example may be helpful.\n",
    "\n",
    "Take a look at the following set of digits:\n",
    "\n",
    "123\n",
    "\n",
    "Can you guess what value it represents? Of course you can - it's one hundred twenty three.\n",
    "\n",
    "But what about this:\n",
    "\n",
    "c\n",
    "\n",
    "*Does it represent any value? Maybe. It can be the symbol of the speed of light, for example. It also can be the constant of integration. Or even the length of a hypotenuse in the sense of a Pythagorean theorem. There are many possibilities.*\n",
    "\n",
    "\n",
    "You cannot choose the right one without some additional knowledge.\n",
    "\n",
    "**And this is the clue: 123 is a literal, and c is not.**\n",
    "\n",
    "You use literals to encode data and to put them into your code. We're now going to show you some conventions you have to obey when using Python."
   ]
  },
  {
   "cell_type": "code",
   "execution_count": 13,
   "metadata": {},
   "outputs": [
    {
     "name": "stdout",
     "output_type": "stream",
     "text": [
      "22\n",
      "6\n"
     ]
    },
    {
     "ename": "TypeError",
     "evalue": "must be str, not int",
     "output_type": "error",
     "traceback": [
      "\u001b[1;31m---------------------------------------------------------------------------\u001b[0m",
      "\u001b[1;31mTypeError\u001b[0m                                 Traceback (most recent call last)",
      "\u001b[1;32m<ipython-input-13-481926cf148e>\u001b[0m in \u001b[0;36m<module>\u001b[1;34m()\u001b[0m\n\u001b[0;32m      7\u001b[0m \u001b[0mprint\u001b[0m\u001b[1;33m(\u001b[0m\u001b[0ma\u001b[0m\u001b[1;33m+\u001b[0m\u001b[0ma\u001b[0m\u001b[1;33m)\u001b[0m \u001b[1;31m# string di concatenate dengan string\u001b[0m\u001b[1;33m\u001b[0m\u001b[0m\n\u001b[0;32m      8\u001b[0m \u001b[0mprint\u001b[0m\u001b[1;33m(\u001b[0m\u001b[0mb\u001b[0m\u001b[1;33m+\u001b[0m\u001b[0mb\u001b[0m\u001b[1;33m)\u001b[0m \u001b[1;31m# interger dijumlahkan dg integer\u001b[0m\u001b[1;33m\u001b[0m\u001b[0m\n\u001b[1;32m----> 9\u001b[1;33m \u001b[0mprint\u001b[0m\u001b[1;33m(\u001b[0m\u001b[0ma\u001b[0m\u001b[1;33m+\u001b[0m\u001b[0mb\u001b[0m\u001b[1;33m)\u001b[0m \u001b[1;31m# string dijumlahkan dg integer -> EROR\u001b[0m\u001b[1;33m\u001b[0m\u001b[0m\n\u001b[0m",
      "\u001b[1;31mTypeError\u001b[0m: must be str, not int"
     ]
    }
   ],
   "source": [
    "#contoh berikut anda akan belajar bedanya string & integer:\n",
    "\n",
    "#print(\"2\")\n",
    "#print(2)\n",
    "a=\"2\"\n",
    "b=3\n",
    "print(a+a) # string di concatenate dengan string\n",
    "print(b+b) # interger dijumlahkan dg integer\n",
    "print(a+b) # string dijumlahkan dg integer -> EROR"
   ]
  },
  {
   "cell_type": "code",
   "execution_count": 3,
   "metadata": {},
   "outputs": [
    {
     "name": "stdout",
     "output_type": "stream",
     "text": [
      "ada 2\n"
     ]
    }
   ],
   "source": [
    "print(\"ada 2\")"
   ]
  },
  {
   "cell_type": "code",
   "execution_count": 4,
   "metadata": {},
   "outputs": [
    {
     "ename": "SyntaxError",
     "evalue": "invalid syntax (<ipython-input-4-9110bcfed554>, line 1)",
     "output_type": "error",
     "traceback": [
      "\u001b[1;36m  File \u001b[1;32m\"<ipython-input-4-9110bcfed554>\"\u001b[1;36m, line \u001b[1;32m1\u001b[0m\n\u001b[1;33m    print(ada 2)\u001b[0m\n\u001b[1;37m              ^\u001b[0m\n\u001b[1;31mSyntaxError\u001b[0m\u001b[1;31m:\u001b[0m invalid syntax\n"
     ]
    }
   ],
   "source": [
    "print(ada 2)"
   ]
  },
  {
   "cell_type": "markdown",
   "metadata": {},
   "source": [
    "# Integers\n",
    "You may already know a little about how computers perform calculations on numbers. Perhaps you've heard of the binary system, and know that it's the system computers use for storing numbers, and that they can perform any operation upon them.\n",
    "\n",
    "We won't explore the intricacies of positional numeral systems here, but we'll say that the numbers handled by modern computers are of two types:\n",
    "\n",
    "integers, that is, those which are devoid of the fractional part;\n",
    "and floating-point numbers (or simply floats), that contain (or are able to contain) the fractional part.\n",
    "This definition is not entirely accurate, but quite sufficient for now. The distinction is very important, and the boundary between these two types of numbers is very strict. Both of these kinds of numbers differ significantly in how they're stored in a computer memory and in the range of acceptable values.\n",
    "\n",
    "The characteristic of the numeric value which determines its kind, range, and application, is called the type.\n",
    "\n",
    "If you encode a literal and place it inside Python code, the form of the literal determines the representation (type) Python will use to store it in the memory.\n",
    "\n",
    "For now, let's leave the floating-point numbers aside (we'll come back to them soon) and consider the question of how Python recognizes integers.\n",
    "\n",
    "\n",
    "The process is almost like how you would write them with a pencil on paper - it's simply a string of digits that make up the number. But there's a reservation - you must not interject any characters that are not digits inside the number.\n",
    "\n",
    "Take, for example, the number eleven million one hundred and eleven thousand one hundred and eleven. If you took a pencil in your hand right now, you would write the number like this: 11,111,111, or like this: 11.111.111, or even like this: 11 111 111.\n",
    "\n",
    "It's clear that this provision makes it easier to read, especially when the number consists of many digits. However, Python doesn't accept things like these. It's prohibited. What Python does allow, though, is the use of underscores in numeric literals.*\n",
    "\n",
    "Therefore, you can write this number either like this: 11111111, or like that: 11_111_111.\n",
    "\n",
    "NOTE   *Python 3.6 has introduced underscores in numeric literals, allowing for placing single underscores between digits and after base specifiers for improved readability. This feature is not available in older versions of Python.\n",
    "\n",
    "\n",
    "And how do we code negative numbers in Python? As usual - by adding a minus. You can write: -11111111, or -11_111_111.\n",
    "\n",
    "Positive numbers do not need to be preceded by the plus sign, but it's permissible, if you wish to do it. The following lines describe the same number: +11111111 and -11111111."
   ]
  },
  {
   "cell_type": "markdown",
   "metadata": {},
   "source": [
    "##  Integers: octal and hexadecimal numbers\n",
    "There are two additional conventions in Python that are unknown to the world of mathematics. The first allows us to use numbers in an octal representation.\n",
    "\n",
    "If an integer number is preceded by an 0O or 0o prefix (zero-o), it will be treated as an octal value. This means that the number must contain digits taken from the [0..7] range only.\n",
    "\n",
    "0o123 is an octal number with a (decimal) value equal to 83.\n",
    "\n",
    "The print() function does the conversion automatically. Try this:\n",
    "\n",
    "print(0o123)\n",
    "\n",
    "The second convention allows us to use hexadecimal numbers. Such numbers should be preceded by the prefix 0x or 0X (zero-x).\n",
    "\n",
    "0x123 is a hexadecimal number with a (decimal) value equal to 291. The print() function can manage these values too. Try this:\n",
    "\n",
    "print(0x123)"
   ]
  },
  {
   "cell_type": "code",
   "execution_count": 16,
   "metadata": {},
   "outputs": [
    {
     "name": "stdout",
     "output_type": "stream",
     "text": [
      "83\n",
      "3875\n"
     ]
    }
   ],
   "source": [
    "#WHY??\n",
    "\n",
    "print(0o123) #oktal\n",
    "print(0xF23) #heksadesimal"
   ]
  },
  {
   "attachments": {
    "image.png": {
     "image/png": "[encoded data removed]"
    }
   },
   "cell_type": "markdown",
   "metadata": {},
   "source": [
    "## jawabannya:\n",
    "### Tentang Bilangan Okta\n",
    "https://id.wikipedia.org/wiki/Oktal\n",
    "\n",
    "![image.png](attachment:image.png)\n"
   ]
  },
  {
   "attachments": {
    "image.png": {
     "image/png": "[encoded data removed]"
    }
   },
   "cell_type": "markdown",
   "metadata": {},
   "source": [
    "\n",
    "### Tentang Bilangan Heksadesimal\n",
    "https://id.wikipedia.org/wiki/Heksadesimal\n",
    "\n",
    "![image.png](attachment:image.png)"
   ]
  },
  {
   "cell_type": "markdown",
   "metadata": {},
   "source": [
    "## Floating Number (Bilangan Desimal)\n",
    "Now it's time to talk about another type, which is designed to represent and to store the numbers that (as a mathematician would say) have a non-empty decimal fraction.\n",
    "\n",
    "They are the numbers that have (or may have) a fractional part after the decimal point, and although such a definition is very poor, it's certainly sufficient for what we wish to discuss.\n",
    "\n",
    "Whenever we use a term like two and a half or minus zero point four, we think of numbers which the computer considers floating-point numbers:\n",
    "\n",
    "2.5<br>\n",
    "-0.4\n",
    "\n",
    "Note: two and a half looks normal when you write it in a program, although if your native language prefers to use a comma instead of a point in the number, you should ensure that your number doesn't contain any commas at all.\n",
    "\n",
    "Python will not accept that, or (in very rare but possible cases) may misunderstand your intentions, as the comma itself has its own reserved meaning in Python.\n",
    "\n",
    "If you want to use just a value of two and a half, you should write it as shown above. Note once again - there is a point between 2 and 5 - not a comma.\n",
    "\n",
    "As you can probably imagine, the value of zero point four could be written in Python as:\n",
    "\n",
    "0.4\n",
    "\n",
    "But don't forget this simple rule - you can omit zero when it is the only digit in front of or after the decimal point.\n",
    "\n",
    "In essence, you can write the value 0.4 as:\n",
    "\n",
    ".4\n",
    "\n",
    "For example: the value of 4.0 could be written as:\n",
    "\n",
    "4.\n",
    "\n",
    "This will change neither its type nor its value."
   ]
  },
  {
   "cell_type": "code",
   "execution_count": 9,
   "metadata": {},
   "outputs": [
    {
     "data": {
      "text/plain": [
       "2.5"
      ]
     },
     "execution_count": 9,
     "metadata": {},
     "output_type": "execute_result"
    }
   ],
   "source": [
    "#desimal menggunakan . bukan ,\n",
    "\n",
    "2.5\n"
   ]
  },
  {
   "cell_type": "code",
   "execution_count": 10,
   "metadata": {},
   "outputs": [
    {
     "data": {
      "text/plain": [
       "-0.4"
      ]
     },
     "execution_count": 10,
     "metadata": {},
     "output_type": "execute_result"
    }
   ],
   "source": [
    "-0.4\n"
   ]
  },
  {
   "cell_type": "code",
   "execution_count": 11,
   "metadata": {},
   "outputs": [
    {
     "data": {
      "text/plain": [
       "0.4"
      ]
     },
     "execution_count": 11,
     "metadata": {},
     "output_type": "execute_result"
    }
   ],
   "source": [
    "0.4\n"
   ]
  },
  {
   "cell_type": "code",
   "execution_count": 12,
   "metadata": {},
   "outputs": [
    {
     "data": {
      "text/plain": [
       "4.0"
      ]
     },
     "execution_count": 12,
     "metadata": {},
     "output_type": "execute_result"
    }
   ],
   "source": [
    "4."
   ]
  },
  {
   "cell_type": "code",
   "execution_count": 18,
   "metadata": {},
   "outputs": [
    {
     "name": "stdout",
     "output_type": "stream",
     "text": [
      "4\n",
      "4.0\n",
      "6.0\n"
     ]
    }
   ],
   "source": [
    "print(4)  #integer number\n",
    "print(4.0)  #floating point number\n",
    "print(4.0+2)"
   ]
  },
  {
   "cell_type": "code",
   "execution_count": 24,
   "metadata": {},
   "outputs": [
    {
     "name": "stdout",
     "output_type": "stream",
     "text": [
      "<class 'int'>\n",
      "<class 'float'>\n",
      "<class 'float'>\n"
     ]
    }
   ],
   "source": [
    "print(type(4))  #integer number\n",
    "print(type(4.0))  #floating point number\n",
    "print(type(4.0+2))"
   ]
  },
  {
   "cell_type": "code",
   "execution_count": null,
   "metadata": {
    "collapsed": true
   },
   "outputs": [],
   "source": [
    "# eksponen\n",
    "#bisa menggunakan E ataupun e\n",
    "\n",
    "3E8\n",
    "\n",
    "#Note:\n",
    "#the exponent (the value after the E) has to be an integer;\n",
    "#the base (the value in front of the E) may be an integer."
   ]
  },
  {
   "cell_type": "code",
   "execution_count": 16,
   "metadata": {},
   "outputs": [
    {
     "data": {
      "text/plain": [
       "300000000.0"
      ]
     },
     "execution_count": 16,
     "metadata": {},
     "output_type": "execute_result"
    }
   ],
   "source": [
    "3e8"
   ]
  },
  {
   "cell_type": "code",
   "execution_count": 17,
   "metadata": {},
   "outputs": [
    {
     "data": {
      "text/plain": [
       "6.62607e-34"
      ]
     },
     "execution_count": 17,
     "metadata": {},
     "output_type": "execute_result"
    }
   ],
   "source": [
    "6.62607E-34   # sama dengan 6.62607 x 10-34."
   ]
  },
  {
   "cell_type": "code",
   "execution_count": 18,
   "metadata": {},
   "outputs": [
    {
     "data": {
      "text/plain": [
       "1e-22"
      ]
     },
     "execution_count": 18,
     "metadata": {},
     "output_type": "execute_result"
    }
   ],
   "source": [
    "0.0000000000000000000001"
   ]
  },
  {
   "cell_type": "code",
   "execution_count": 19,
   "metadata": {},
   "outputs": [
    {
     "name": "stdout",
     "output_type": "stream",
     "text": [
      "1e-22\n"
     ]
    }
   ],
   "source": [
    "print(0.0000000000000000000001)"
   ]
  },
  {
   "cell_type": "code",
   "execution_count": 20,
   "metadata": {},
   "outputs": [
    {
     "data": {
      "text/plain": [
       "1e-22"
      ]
     },
     "execution_count": 20,
     "metadata": {},
     "output_type": "execute_result"
    }
   ],
   "source": [
    "1e-22"
   ]
  },
  {
   "cell_type": "markdown",
   "metadata": {},
   "source": [
    "# Strings\n",
    "\n",
    "Strings are used when you need to process text (like names of all kinds, addresses, novels, etc.), not numbers."
   ]
  },
  {
   "cell_type": "code",
   "execution_count": 22,
   "metadata": {},
   "outputs": [
    {
     "name": "stdout",
     "output_type": "stream",
     "text": [
      "I like \"Monty Python\"\n"
     ]
    }
   ],
   "source": [
    "#ingat \\\" dapat menggantikan quotes  dalam quotes\n",
    "\n",
    "print(\"I like \\\"Monty Python\\\"\")  "
   ]
  },
  {
   "cell_type": "code",
   "execution_count": 23,
   "metadata": {},
   "outputs": [
    {
     "name": "stdout",
     "output_type": "stream",
     "text": [
      "I like \"Monty Python\"\n"
     ]
    }
   ],
   "source": [
    "#sama hasilnya dengan:\n",
    "print('I like \"Monty Python\"')"
   ]
  },
  {
   "cell_type": "code",
   "execution_count": 24,
   "metadata": {},
   "outputs": [
    {
     "name": "stdout",
     "output_type": "stream",
     "text": [
      "I like 'Monty Python'\n"
     ]
    }
   ],
   "source": [
    "#kegunaannya bisa saling menggantikan antara ' ' dengan \" \"\n",
    "print(\"I like 'Monty Python'\")"
   ]
  },
  {
   "cell_type": "code",
   "execution_count": null,
   "metadata": {
    "collapsed": true
   },
   "outputs": [],
   "source": [
    "#Coding strings\n",
    "#buatlah : I'm Monty Python."
   ]
  },
  {
   "cell_type": "code",
   "execution_count": 25,
   "metadata": {},
   "outputs": [
    {
     "name": "stdout",
     "output_type": "stream",
     "text": [
      "I'm Monty Python.\n"
     ]
    }
   ],
   "source": [
    "print(\"I'm Monty Python.\")"
   ]
  },
  {
   "cell_type": "code",
   "execution_count": 26,
   "metadata": {},
   "outputs": [
    {
     "name": "stdout",
     "output_type": "stream",
     "text": [
      "I'm Monty Python.\n"
     ]
    }
   ],
   "source": [
    "print('I\\'m Monty Python.')"
   ]
  },
  {
   "cell_type": "code",
   "execution_count": 30,
   "metadata": {
    "collapsed": true
   },
   "outputs": [],
   "source": [
    "# a string can be empty\n",
    "#An empty string still remains a string:"
   ]
  },
  {
   "cell_type": "code",
   "execution_count": 31,
   "metadata": {},
   "outputs": [
    {
     "data": {
      "text/plain": [
       "''"
      ]
     },
     "execution_count": 31,
     "metadata": {},
     "output_type": "execute_result"
    }
   ],
   "source": [
    "''"
   ]
  },
  {
   "cell_type": "code",
   "execution_count": 32,
   "metadata": {},
   "outputs": [
    {
     "data": {
      "text/plain": [
       "''"
      ]
     },
     "execution_count": 32,
     "metadata": {},
     "output_type": "execute_result"
    }
   ],
   "source": [
    "\"\""
   ]
  },
  {
   "cell_type": "code",
   "execution_count": null,
   "metadata": {
    "collapsed": true
   },
   "outputs": [],
   "source": []
  },
  {
   "cell_type": "code",
   "execution_count": 26,
   "metadata": {},
   "outputs": [
    {
     "name": "stdout",
     "output_type": "stream",
     "text": [
      "13\n",
      "13\n",
      "0\n",
      "2\n",
      "32\n",
      "-6\n"
     ]
    }
   ],
   "source": [
    "# tambahan :\n",
    "a=8\n",
    "b=5\n",
    "print(a|b)  #OR setiap ada 1 dia selalu TRUE\n",
    "print(a^b)  #XOR yang beda nilainya TRUE,yang sama nilainya FALSE\n",
    "print(a&b)\n",
    "print(a>>2)\n",
    "print(a<<2)\n",
    "print(~5)\n"
   ]
  },
  {
   "cell_type": "markdown",
   "metadata": {
    "collapsed": true
   },
   "source": [
    "## Boolean values\n",
    "\n",
    "The name comes from George Boole (1815-1864), the author of the fundamental work, The Laws of Thought, which contains the definition of Boolean algebra - a part of algebra which makes use of only two distinct values: True and False, denoted as 1 and 0.\n",
    "\n",
    "Python, then, is a binary reptile.\n",
    "\n",
    "These two Boolean values have strict denotations in Python:\n",
    "\n",
    "- True\n",
    "- False"
   ]
  },
  {
   "cell_type": "code",
   "execution_count": 1,
   "metadata": {},
   "outputs": [
    {
     "name": "stdout",
     "output_type": "stream",
     "text": [
      "True\n",
      "False\n"
     ]
    }
   ],
   "source": [
    "print(True > False)\n",
    "print(True < False)"
   ]
  },
  {
   "cell_type": "code",
   "execution_count": 2,
   "metadata": {},
   "outputs": [
    {
     "name": "stdout",
     "output_type": "stream",
     "text": [
      "True\n"
     ]
    }
   ],
   "source": [
    "print(True)"
   ]
  },
  {
   "cell_type": "code",
   "execution_count": 4,
   "metadata": {},
   "outputs": [
    {
     "name": "stdout",
     "output_type": "stream",
     "text": [
      "False\n"
     ]
    }
   ],
   "source": [
    "print(False)"
   ]
  },
  {
   "cell_type": "markdown",
   "metadata": {},
   "source": [
    "## LAB \n",
    "\n",
    "Estimated time:\n",
    "5 minutes\n",
    "\n",
    "Level of difficulty:\n",
    "Easy\n",
    "\n",
    "Objectives\n",
    "- becoming familiar with the print() function and its formatting capabilities;\n",
    "- practicing coding strings;\n",
    "- experimenting with Python code.\n",
    "\n",
    "Scenario\n",
    "Write a one-line piece of code, using the print() function, as well as the newline and escape characters, to match the expected result outputted on three lines.\n",
    "\n",
    "Expected output:\n",
    "\n",
    "\"I'm\"<br>\n",
    "\"\"learning\"\"<br>\n",
    "\"\"\"Python\"\"\""
   ]
  },
  {
   "cell_type": "code",
   "execution_count": 13,
   "metadata": {},
   "outputs": [
    {
     "name": "stdout",
     "output_type": "stream",
     "text": [
      "\"I'm\"\n",
      "\"\"learning\"\"\n",
      "\"\"\"Python\"\"\"\n"
     ]
    }
   ],
   "source": [
    "print('\"I\\'m\"','\"\"learning\"\"','\\\"\\\"\\\"Python\\\"\\\"\\\"',sep='\\n')\n",
    "\n",
    "#untuk memudahkan gunakan tanda petik satu untuk luarnya ' '\n",
    "#ketika mengetik \" maka otomatis terhasilkan dua \" \" , sehinnga jika butuh tiga memerlukan bantuan escape \\ menjadi \\\""
   ]
  },
  {
   "cell_type": "markdown",
   "metadata": {},
   "source": [
    "Key takeaways\n",
    "1. Literals are notations for representing some fixed values in code. Python has various types of literals - for example, a literal can be a number (numeric literals, e.g., 123), or a string (string literals, e.g., \"I am a literal.\").\n",
    "\n",
    "2. The binary system is a system of numbers that employs 2 as the base. Therefore, a binary number is made up of 0s and 1s only, e.g., 1010 is 10 in decimal.\n",
    "\n",
    "Octal and hexadecimal numeration systems, similarly, employ 8 and 16 as their bases respectively. The hexadecimal system uses the decimal numbers and six extra letters.\n",
    "3. Integers (or simply ints) are one of the numerical types supported by Python. They are numbers written without a fractional component, e.g., 256, or -1 (negative integers).\n",
    "\n",
    "4. Floating-point numbers (or simply floats) are another one of the numerical types supported by Python. They are numbers that contain (or are able to contain) a fractional component, e.g., 1.27.\n",
    "\n",
    "5. To encode an apostrophe or a quote inside a string you can either use the escape character, e.g., 'I\\'m happy.', or open and close the string using an opposite set of symbols to the ones you wish to encode, e.g., \"I'm happy.\" to encode an apostrophe, and 'He said \"Python\", not \"typhoon\"' to encode a (double) quote.\n",
    "\n",
    "6. Boolean values are the two constant objects True and False used to represent truth values (in numeric contexts 1 is True, while 0 is False."
   ]
  },
  {
   "cell_type": "markdown",
   "metadata": {},
   "source": [
    "## EXTRA\n",
    "\n",
    "There is one more, special literal that is used in Python: the None literal. This literal is a so-called NoneType object, and it is used to represent the absence of a value. We'll tell you more about it soon."
   ]
  },
  {
   "cell_type": "markdown",
   "metadata": {},
   "source": [
    "### Exercise 1\n",
    "\n",
    "What types of literals are the following two examples?\n",
    "\n",
    "\"Hello \", \"007\"\n",
    "\n",
    "Check:\n",
    "They're both strings/string literals.\n",
    "\n",
    "\n",
    "### Exercise 2\n",
    "\n",
    "What types of literals are the following four examples?\n",
    "\n",
    "\"1.5\", 2.0, 528, False\n",
    "\n",
    "Check:\n",
    "The first is a string, the second is a numerical literal (a float), the third is a numerical literal (an integer), and the fourth is a boolean literal.\n",
    "\n",
    "\n",
    "### Exercise 3\n",
    "\n",
    "What is the decimal value of the following binary number?\n",
    "\n",
    "1011\n",
    "\n",
    "Check:\n",
    "It's 11, because (2**0) + (2**1) + (2**3) = 11\n",
    "\n"
   ]
  },
  {
   "cell_type": "code",
   "execution_count": null,
   "metadata": {
    "collapsed": true
   },
   "outputs": [],
   "source": []
  }
 ],
 "metadata": {
  "kernelspec": {
   "display_name": "Python 3",
   "language": "python",
   "name": "python3"
  },
  "language_info": {
   "codemirror_mode": {
    "name": "ipython",
    "version": 3
   },
   "file_extension": ".py",
   "mimetype": "text/x-python",
   "name": "python",
   "nbconvert_exporter": "python",
   "pygments_lexer": "ipython3",
   "version": "3.6.3"
  }
 },
 "nbformat": 4,
 "nbformat_minor": 2
}
