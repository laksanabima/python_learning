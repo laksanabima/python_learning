{
 "cells": [
  {
   "cell_type": "markdown",
   "metadata": {},
   "source": [
    "# Modul 2 : Data types, variables, basic input-output operations, basic operators\n",
    "\n",
    "In this module, you will learn about:\n",
    "\n",
    "- data types and the basic methods of formatting, converting, inputting and outputting data;\n",
    "- operators;\n",
    "- variables.\n",
    "\n",
    "### Modul 2 - PART 1: Print Function, Quotes, String, Separator, Keyword End"
   ]
  },
  {
   "cell_type": "markdown",
   "metadata": {},
   "source": [
    "#### Hello, World!\n",
    "It's time to start writing some real, working Python code. It'll be very simple for the time being.\n",
    "\n",
    "As we're going to show you some fundamental concepts and terms, these snippets of code won't be serious or complex.\n",
    "\n",
    "Run the code in the editor window on the right. If everything goes okay here, you'll see the line of text in the console window.\n",
    "\n",
    "Alternatively, launch IDLE, create a new Python source file, fill it with this code, name the file and save it. Now run it. If everything goes okay, you'll see the rhyme's line in the IDLE console window. The code you have run should look familiar. You saw something very similar when we led you through the setting up of the IDLE environment.\n",
    "\n",
    "Now we'll spend some time showing and explaining to you what you're actually seeing, and why it looks like this.\n",
    "\n",
    "As you can see, the first program consists of the following parts:\n",
    "\n",
    "the word print;\n",
    "an opening parenthesis;\n",
    "a quotation mark;\n",
    "a line of text: Hello, World!;\n",
    "another quotation mark;\n",
    "a closing parenthesis.\n",
    "Each of the above plays a very important role in the code."
   ]
  },
  {
   "cell_type": "code",
   "execution_count": 1,
   "metadata": {},
   "outputs": [
    {
     "name": "stdout",
     "output_type": "stream",
     "text": [
      "Hello, World!\n"
     ]
    }
   ],
   "source": [
    "print(\"Hello, World!\")"
   ]
  },
  {
   "cell_type": "markdown",
   "metadata": {},
   "source": [
    "## Function vs String\n",
    "### The print() function\n",
    "As we said before, a function may have:\n",
    "\n",
    "1. an effect;\n",
    "2. a result.\n",
    "\n",
    "*Note: to distinguish ordinary words from function names, place a pair of empty parentheses after their names, \n",
    "even if the corresponding function wants one or more arguments. \n",
    "This is a standard convention.*"
   ]
  },
  {
   "cell_type": "markdown",
   "metadata": {},
   "source": [
    "The print() function\n",
    "The only argument delivered to the print() function in this example is a **string**:\n",
    "\n",
    "print(\"Hello, World!\")\n",
    "\n",
    "As you can see, the string is delimited with quotes - in fact, the quotes make the string - they cut out a part of the code and assign a different meaning to it.\n",
    "\n",
    "*Almost anything you put inside the quotes will be taken literally, not as code, but as data. *"
   ]
  },
  {
   "cell_type": "markdown",
   "metadata": {},
   "source": [
    "What happens when Python encounters an invocation like this one below?\n",
    "\n",
    "**functionName(argument)**\n",
    "\n",
    "Let's see:\n",
    "\n",
    "1. Python checks if the name specified is legal (it browses its internal data in order to find an existing function of the name; if this search fails, Python aborts the code);\n",
    "2. second, Python checks if the function's requirements for the number of arguments allows you to invoke the function in this way (e.g., if a specific function demands exactly two arguments, any invocation delivering only one argument will be considered erroneous, and will abort the code's execution);\n",
    "3. Python leaves your code for a moment and jumps into the function you want to invoke; of course, it takes your argument(s) too and passes it/them to the function;\n",
    "4. the function executes its code, causes the desired effect (if any), evaluates the desired result(s) (if any) and finishes its task;\n",
    "5. Python returns to your code (to the place just after the invocation) and resumes its execution."
   ]
  },
  {
   "cell_type": "markdown",
   "metadata": {},
   "source": [
    "# LAB \n",
    "\n",
    "Estimated time\n",
    "5 minutes\n",
    "\n",
    "Level of difficulty:\n",
    "Very easy\n",
    "\n",
    "Objectives\n",
    "1. becoming familiar with the print() function and its formatting capabilities;\n",
    "2. experimenting with Python code.\n",
    "\n",
    "Scenario\n",
    "The **print()** command, which is one of the easiest directives in Python, simply prints out a line to the screen.\n",
    "\n",
    "In your first lab:\n",
    "\n",
    "- use the print() function to print the line Hello, Python! to the screen. \n",
    "- Use double quotes around the string;\n",
    "- having done that, use the print() function again, but this time print your first name;\n",
    "- remove the double quotes and run your code. Watch Python's reaction. What kind of error is thrown?\n",
    "- then, remove the parentheses, put back the double quotes, and run your code again. What kind of error is thrown this time?\n",
    "- experiment as much as you can. Change double quotes to single quotes, use multiple print() functions on the same line, and \n",
    "- then on different lines. See what happens."
   ]
  },
  {
   "cell_type": "code",
   "execution_count": 2,
   "metadata": {},
   "outputs": [
    {
     "name": "stdout",
     "output_type": "stream",
     "text": [
      "Hello, Python!\n"
     ]
    }
   ],
   "source": [
    "print(\"Hello, Python!\")"
   ]
  },
  {
   "cell_type": "code",
   "execution_count": 3,
   "metadata": {},
   "outputs": [
    {
     "name": "stdout",
     "output_type": "stream",
     "text": [
      "tuti\n"
     ]
    }
   ],
   "source": [
    "print(\"tuti\")"
   ]
  },
  {
   "cell_type": "code",
   "execution_count": 4,
   "metadata": {},
   "outputs": [
    {
     "ename": "NameError",
     "evalue": "name 'tuti' is not defined",
     "output_type": "error",
     "traceback": [
      "\u001b[1;31m---------------------------------------------------------------------------\u001b[0m",
      "\u001b[1;31mNameError\u001b[0m                                 Traceback (most recent call last)",
      "\u001b[1;32m<ipython-input-4-5040f8c15022>\u001b[0m in \u001b[0;36m<module>\u001b[1;34m()\u001b[0m\n\u001b[1;32m----> 1\u001b[1;33m \u001b[0mprint\u001b[0m\u001b[1;33m(\u001b[0m\u001b[0mtuti\u001b[0m\u001b[1;33m)\u001b[0m\u001b[1;33m\u001b[0m\u001b[0m\n\u001b[0m",
      "\u001b[1;31mNameError\u001b[0m: name 'tuti' is not defined"
     ]
    }
   ],
   "source": [
    "print(tuti)"
   ]
  },
  {
   "cell_type": "code",
   "execution_count": 5,
   "metadata": {},
   "outputs": [
    {
     "ename": "SyntaxError",
     "evalue": "Missing parentheses in call to 'print'. Did you mean print(\"tuti\")? (<ipython-input-5-2a799c453275>, line 1)",
     "output_type": "error",
     "traceback": [
      "\u001b[1;36m  File \u001b[1;32m\"<ipython-input-5-2a799c453275>\"\u001b[1;36m, line \u001b[1;32m1\u001b[0m\n\u001b[1;33m    print \"tuti\"\u001b[0m\n\u001b[1;37m               ^\u001b[0m\n\u001b[1;31mSyntaxError\u001b[0m\u001b[1;31m:\u001b[0m Missing parentheses in call to 'print'. Did you mean print(\"tuti\")?\n"
     ]
    }
   ],
   "source": [
    "print \"tuti\""
   ]
  },
  {
   "cell_type": "code",
   "execution_count": 6,
   "metadata": {},
   "outputs": [
    {
     "name": "stdout",
     "output_type": "stream",
     "text": [
      "tuti\n"
     ]
    }
   ],
   "source": [
    "print ('tuti')"
   ]
  },
  {
   "cell_type": "code",
   "execution_count": 7,
   "metadata": {},
   "outputs": [
    {
     "ename": "SyntaxError",
     "evalue": "unexpected EOF while parsing (<ipython-input-7-b63f0376dbc5>, line 1)",
     "output_type": "error",
     "traceback": [
      "\u001b[1;36m  File \u001b[1;32m\"<ipython-input-7-b63f0376dbc5>\"\u001b[1;36m, line \u001b[1;32m1\u001b[0m\n\u001b[1;33m    print (print('tuti')\u001b[0m\n\u001b[1;37m                        ^\u001b[0m\n\u001b[1;31mSyntaxError\u001b[0m\u001b[1;31m:\u001b[0m unexpected EOF while parsing\n"
     ]
    }
   ],
   "source": [
    "print (print('tuti')"
   ]
  },
  {
   "cell_type": "code",
   "execution_count": 9,
   "metadata": {},
   "outputs": [
    {
     "ename": "SyntaxError",
     "evalue": "invalid syntax (<ipython-input-9-164fb180c0a6>, line 1)",
     "output_type": "error",
     "traceback": [
      "\u001b[1;36m  File \u001b[1;32m\"<ipython-input-9-164fb180c0a6>\"\u001b[1;36m, line \u001b[1;32m1\u001b[0m\n\u001b[1;33m    print ('tuti') print('tuti')\u001b[0m\n\u001b[1;37m                       ^\u001b[0m\n\u001b[1;31mSyntaxError\u001b[0m\u001b[1;31m:\u001b[0m invalid syntax\n"
     ]
    }
   ],
   "source": [
    "print ('tuti') print('tuti')"
   ]
  },
  {
   "cell_type": "code",
   "execution_count": 10,
   "metadata": {},
   "outputs": [
    {
     "name": "stdout",
     "output_type": "stream",
     "text": [
      "tuti\n",
      "tuti\n"
     ]
    },
    {
     "data": {
      "text/plain": [
       "(None, None)"
      ]
     },
     "execution_count": 10,
     "metadata": {},
     "output_type": "execute_result"
    }
   ],
   "source": [
    "print ('tuti'),print('tuti')"
   ]
  },
  {
   "cell_type": "code",
   "execution_count": 11,
   "metadata": {},
   "outputs": [
    {
     "name": "stdout",
     "output_type": "stream",
     "text": [
      "tuti\n",
      "tuti\n"
     ]
    }
   ],
   "source": [
    "print ('tuti');print('tuti')"
   ]
  },
  {
   "cell_type": "code",
   "execution_count": 13,
   "metadata": {},
   "outputs": [
    {
     "name": "stdout",
     "output_type": "stream",
     "text": [
      "saya semangat belajar.\n",
      "saya belajar bersama teman-teman.\n"
     ]
    }
   ],
   "source": [
    "#Note: Python's syntax is quite specific in this area. \n",
    "#Unlike most programming languages, \n",
    "#Python requires that there cannot be more than one instruction in a line.\n",
    "\n",
    "print(\"saya semangat belajar.\")\n",
    "print(\"saya belajar bersama teman-teman.\")"
   ]
  },
  {
   "cell_type": "code",
   "execution_count": 14,
   "metadata": {},
   "outputs": [
    {
     "name": "stdout",
     "output_type": "stream",
     "text": [
      "saya semangat belajar.\n",
      "\n",
      "saya belajar bersama teman-teman.\n"
     ]
    }
   ],
   "source": [
    "#membuat baris kosong dengan print\n",
    "\n",
    "print(\"saya semangat belajar.\")\n",
    "print()\n",
    "print(\"saya belajar bersama teman-teman.\")"
   ]
  },
  {
   "cell_type": "code",
   "execution_count": 15,
   "metadata": {},
   "outputs": [
    {
     "ename": "SyntaxError",
     "evalue": "EOL while scanning string literal (<ipython-input-15-54d4b4951074>, line 4)",
     "output_type": "error",
     "traceback": [
      "\u001b[1;36m  File \u001b[1;32m\"<ipython-input-15-54d4b4951074>\"\u001b[1;36m, line \u001b[1;32m4\u001b[0m\n\u001b[1;33m    print(\"\\\")\u001b[0m\n\u001b[1;37m              ^\u001b[0m\n\u001b[1;31mSyntaxError\u001b[0m\u001b[1;31m:\u001b[0m EOL while scanning string literal\n"
     ]
    }
   ],
   "source": [
    "#membuat baris kosong dengan print\n",
    "\n",
    "print(\"saya semangat belajar.\")\n",
    "print(\"\\\")\n",
    "print(\"saya belajar bersama teman-teman.\")"
   ]
  },
  {
   "cell_type": "code",
   "execution_count": 16,
   "metadata": {},
   "outputs": [
    {
     "name": "stdout",
     "output_type": "stream",
     "text": [
      "saya semangat belajar.\n",
      "\\\n",
      "saya belajar bersama teman-teman.\n"
     ]
    }
   ],
   "source": [
    "#membuat baris kosong dengan print\n",
    "\n",
    "print(\"saya semangat belajar.\")\n",
    "print(\"\\\\\")\n",
    "print(\"saya belajar bersama teman-teman.\")"
   ]
  },
  {
   "cell_type": "code",
   "execution_count": 19,
   "metadata": {},
   "outputs": [
    {
     "ename": "SyntaxError",
     "evalue": "EOL while scanning string literal (<ipython-input-19-983a24dabd6d>, line 3)",
     "output_type": "error",
     "traceback": [
      "\u001b[1;36m  File \u001b[1;32m\"<ipython-input-19-983a24dabd6d>\"\u001b[1;36m, line \u001b[1;32m3\u001b[0m\n\u001b[1;33m    print(\"\\\")\u001b[0m\n\u001b[1;37m              ^\u001b[0m\n\u001b[1;31mSyntaxError\u001b[0m\u001b[1;31m:\u001b[0m EOL while scanning string literal\n"
     ]
    }
   ],
   "source": [
    "# arti dari:\\ (tanda ini memiliki arti)\n",
    "\n",
    "print(\"\\\")"
   ]
  },
  {
   "cell_type": "code",
   "execution_count": 20,
   "metadata": {},
   "outputs": [
    {
     "name": "stdout",
     "output_type": "stream",
     "text": [
      "\\\n"
     ]
    }
   ],
   "source": [
    "# arti dari: \\ (tanda ini memiliki arti)\n",
    "\n",
    "print(\"\\\\\")"
   ]
  },
  {
   "cell_type": "code",
   "execution_count": 23,
   "metadata": {},
   "outputs": [
    {
     "name": "stdout",
     "output_type": "stream",
     "text": [
      "\n",
      "saya semangat belajar bersama dengan teman-teman\n"
     ]
    }
   ],
   "source": [
    "#dengan tanpa argumen\n",
    "print()\n",
    "\n",
    "#dengan 1 argumen\n",
    "print(\"saya semangat belajar bersama dengan teman-teman\")"
   ]
  },
  {
   "cell_type": "code",
   "execution_count": 22,
   "metadata": {},
   "outputs": [
    {
     "name": "stdout",
     "output_type": "stream",
     "text": [
      "saya semangat belajar bersama dengan teman-teman\n"
     ]
    }
   ],
   "source": [
    "#dengan 3 argumen\n",
    "print(\"saya semangat\",\"belajar bersama\",\"dengan teman-teman\")"
   ]
  },
  {
   "cell_type": "code",
   "execution_count": 24,
   "metadata": {},
   "outputs": [
    {
     "name": "stdout",
     "output_type": "stream",
     "text": [
      "My name is Python. Monty Python.\n"
     ]
    }
   ],
   "source": [
    "#menggunakan keyword argument pada print\n",
    "\n",
    "print(\"My name is\", \"Python.\", end=\" \")\n",
    "print(\"Monty Python.\")"
   ]
  },
  {
   "cell_type": "code",
   "execution_count": 27,
   "metadata": {},
   "outputs": [
    {
     "name": "stdout",
     "output_type": "stream",
     "text": [
      "My name is Monty Python.\n"
     ]
    }
   ],
   "source": [
    "print(\"My name is \", end=\"\")\n",
    "print(\"Monty Python.\")\n",
    "\n",
    "#Note: no newlines have been sent to the output."
   ]
  },
  {
   "cell_type": "code",
   "execution_count": 28,
   "metadata": {},
   "outputs": [
    {
     "name": "stdout",
     "output_type": "stream",
     "text": [
      "My-name-is-Monty-Python.\n"
     ]
    }
   ],
   "source": [
    "print(\"My\", \"name\", \"is\", \"Monty\", \"Python.\", sep=\"-\")"
   ]
  },
  {
   "cell_type": "code",
   "execution_count": 31,
   "metadata": {},
   "outputs": [
    {
     "name": "stdout",
     "output_type": "stream",
     "text": [
      "My name is Monty Python.\n"
     ]
    }
   ],
   "source": [
    "#Note: the sep argument's value may be an empty string, too. Try it for yourself.\n",
    "\n",
    "print(\"My\", \"name\", \"is\", \"Monty\", \"Python.\", sep=\" \")"
   ]
  },
  {
   "cell_type": "code",
   "execution_count": 34,
   "metadata": {},
   "outputs": [
    {
     "name": "stdout",
     "output_type": "stream",
     "text": [
      "My_name_is*Monty*Python.*\n",
      "\n"
     ]
    }
   ],
   "source": [
    "#menambahkan ending dengan enter (\\n):\n",
    "\n",
    "print(\"My\", \"name\", \"is\", sep=\"_\", end=\"*\")\n",
    "print(\"Monty\", \"Python.\", sep=\"*\", end=\"*\\n\") #setelah kalimat ada enter satu kali"
   ]
  },
  {
   "cell_type": "code",
   "execution_count": 35,
   "metadata": {},
   "outputs": [
    {
     "name": "stdout",
     "output_type": "stream",
     "text": [
      "My_name_is*Monty*Python.*\n",
      "\n"
     ]
    }
   ],
   "source": [
    "print(\"My\", \"name\", \"is\", sep=\"_\", end=\"*\")\n",
    "print(\"Monty\", \"Python.\", sep=\"*\", end=\"*\\n\\n\") #setelah kalimat ada enter dua kali"
   ]
  },
  {
   "cell_type": "markdown",
   "metadata": {},
   "source": [
    "# LAB \n",
    "\n",
    "Estimated time: 5 minutes\n",
    "\n",
    "Level of difficulty: Very Easy\n",
    "\n",
    "Objectives\n",
    "- becoming familiar with the print() function and its formatting capabilities;\n",
    "- experimenting with Python code.\n",
    "\n",
    "**Scenario**\n",
    "- Modify the first line of code in the editor, using the sep and end keywords, to match the expected output. Use the two print() functions in the editor.\n",
    "\n",
    "- Don't change anything in the second print() invocation.\n",
    "\n",
    "Expected output:\n",
    "Programming***Essentials***in...Python"
   ]
  },
  {
   "cell_type": "code",
   "execution_count": 36,
   "metadata": {},
   "outputs": [
    {
     "name": "stdout",
     "output_type": "stream",
     "text": [
      "Programming***Essentials***in...Python\n"
     ]
    }
   ],
   "source": [
    "print(\"Programming\",\"Essentials\",\"in\", sep=\"***\", end=\"...\")\n",
    "print(\"Python\")"
   ]
  },
  {
   "cell_type": "code",
   "execution_count": 37,
   "metadata": {},
   "outputs": [
    {
     "name": "stdout",
     "output_type": "stream",
     "text": [
      "Programming ***Essentials*** in...\n",
      "Python\n"
     ]
    }
   ],
   "source": [
    "#akan berbeda halnya jika anda mengetik code dengan cara ini:\n",
    "print(\"Programming\",\"***Essentials***\",\"in...\")\n",
    "print(\"Python\")"
   ]
  },
  {
   "cell_type": "markdown",
   "metadata": {},
   "source": [
    "# LAB \n",
    "\n",
    "- Estimated time\n",
    "5-10 minutes\n",
    "\n",
    "- Level of difficulty\n",
    "Easy\n",
    "\n",
    "Objectives\n",
    "1. experimenting with existing Python code;\n",
    "2. discovering and fixing basic syntax errors;\n",
    "3. becoming familiar with the print() function and its formatting capabilities.\n",
    "\n",
    "- Scenario\n",
    "--> We strongly encourage you to play with the code we've written for you, and make some (maybe even destructive) amendments. Feel free to modify any part of the code, but there is one condition - learn from your mistakes and draw your own conclusions.\n",
    "\n",
    "Try to:\n",
    "\n",
    "- minimize the number of print() function invocations by inserting the  \\n sequence into the strings\n",
    "- make the arrow twice as large (but keep the proportions)\n",
    "- duplicate the arrow, placing both arrows side by side; note: a string may be multiplied by using the following trick: \"string\" * 2 will produce \"stringstring\" (we'll tell you more about it soon)\n",
    "- remove any of the quotes, and look carefully at Python's response; pay attention to where Python sees an error - is this the place where the error really exists?\n",
    "- do the same with some of the parentheses;\n",
    "- change any of the print words into something else, differing only in case (e.g., Print) - what happens now?\n",
    "- replace some of the quotes with apostrophes; watch what happens carefully."
   ]
  },
  {
   "cell_type": "code",
   "execution_count": 38,
   "metadata": {},
   "outputs": [
    {
     "name": "stdout",
     "output_type": "stream",
     "text": [
      "    *\n",
      "   * *\n",
      "  *   *\n",
      " *     *\n",
      "***   ***\n",
      "  *   *\n",
      "  *   *\n",
      "  *****\n"
     ]
    }
   ],
   "source": [
    "print(\"    *\")\n",
    "print(\"   * *\")\n",
    "print(\"  *   *\")\n",
    "print(\" *     *\")\n",
    "print(\"***   ***\")\n",
    "print(\"  *   *\")\n",
    "print(\"  *   *\")\n",
    "print(\"  *****\")"
   ]
  },
  {
   "cell_type": "code",
   "execution_count": 1,
   "metadata": {},
   "outputs": [
    {
     "name": "stdout",
     "output_type": "stream",
     "text": [
      "    *\n",
      "   * *\n",
      "  *   *\n",
      " *     *\n",
      "***   ***\n",
      "  *   *\n",
      "  *   *\n",
      "  *****\n"
     ]
    }
   ],
   "source": [
    "#hasil sama dg atas, cara berbeda:\n",
    "\n",
    "print(\"    *\",\n",
    "\"   * *\",\n",
    "\"  *   *\",\n",
    "\" *     *\",\n",
    "\"***   ***\",\n",
    "\"  *   *\",\n",
    "\"  *   *\",\n",
    "\"  *****\",sep=\"\\n\")"
   ]
  },
  {
   "cell_type": "code",
   "execution_count": 2,
   "metadata": {},
   "outputs": [
    {
     "name": "stdout",
     "output_type": "stream",
     "text": [
      "    *    * *   *   *  *     * ***   ***   *   *   *   *   *****\n"
     ]
    }
   ],
   "source": [
    "print(\"    *\",\n",
    "\"   * *\",\n",
    "\"  *   *\",\n",
    "\" *     *\",\n",
    "\"***   ***\",\n",
    "\"  *   *\",\n",
    "\"  *   *\",\n",
    "\"  *****\",end=\"\\n\")"
   ]
  },
  {
   "cell_type": "markdown",
   "metadata": {},
   "source": [
    "# Key takeaways:\n",
    "\n",
    "1. The print() function is a built-in function. It prints/outputs a specified message to the screen/consol window.\n",
    "\n",
    "2. Built-in functions, contrary to user-defined functions, are always available and don't have to be imported. Python 3.7.1 comes with 69 built-in functions. You can find their full list provided in alphabetical order in the Python Standard Library.\n",
    "\n",
    "3. To call a function (function invocation), you need to use the function name followed by parentheses. You can pass arguments into a function by placing them inside the parentheses. You must separate arguments with a comma, e.g., print(\"Hello,\", \"world!\"). An \"empty\" print() function outputs an empty line to the screen.\n",
    "\n",
    "4. Python strings are delimited with quotes, e.g., \"I am a string\", or 'I am a string, too'.\n",
    "\n",
    "5. Computer programs are collections of instructions. An instruction is a command to perform a specific task when executed, e.g., to print a certain message to the screen.\n",
    "\n",
    "6. In Python strings the backslash (\\) is a special character which announces that the next character has a different meaning, e.g., \\n (the newline character) starts a new output line.\n",
    "\n",
    "7. Positional arguments are the ones whose meaning is dictated by their position, e.g., the second argument is outputted after the first, the third is outputted after the second, etc.\n",
    "\n",
    "8. Keyword arguments are the ones whose meaning is not dictated by their location, but by a special word (keyword) used to identify them.\n",
    "\n",
    "9. The end and sep parameters can be used for formatting the output of the print() function. The sep parameter specifies the separator between the outputted arguments (e.g., print(\"H\", \"E\", \"L\", \"L\", \"O\", sep=\"-\"), whereas the end parameter specifies what to print at the end of the print statement."
   ]
  },
  {
   "cell_type": "code",
   "execution_count": null,
   "metadata": {
    "collapsed": true
   },
   "outputs": [],
   "source": []
  },
  {
   "cell_type": "code",
   "execution_count": null,
   "metadata": {
    "collapsed": true
   },
   "outputs": [],
   "source": []
  }
 ],
 "metadata": {
  "kernelspec": {
   "display_name": "Python 3",
   "language": "python",
   "name": "python3"
  },
  "language_info": {
   "codemirror_mode": {
    "name": "ipython",
    "version": 3
   },
   "file_extension": ".py",
   "mimetype": "text/x-python",
   "name": "python",
   "nbconvert_exporter": "python",
   "pygments_lexer": "ipython3",
   "version": "3.6.3"
  }
 },
 "nbformat": 4,
 "nbformat_minor": 2
}
